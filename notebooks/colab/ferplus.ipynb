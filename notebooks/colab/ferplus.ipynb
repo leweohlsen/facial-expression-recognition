{
 "cells": [
  {
   "cell_type": "markdown",
   "metadata": {
    "colab_type": "text",
    "id": "-ifc_uWPusAW"
   },
   "source": [
    "# Uploading the Datasets to COLAB VM"
   ]
  },
  {
   "cell_type": "code",
   "execution_count": 0,
   "metadata": {
    "colab": {
     "autoexec": {
      "startup": false,
      "wait_interval": 0
     }
    },
    "colab_type": "code",
    "collapsed": true,
    "id": "A15A8RxtnrxS"
   },
   "outputs": [],
   "source": [
    "import io\n",
    "from os import path\n",
    "from googleapiclient.http import MediaIoBaseDownload\n",
    "from google.colab import auth\n",
    "from googleapiclient.discovery import build\n"
   ]
  },
  {
   "cell_type": "code",
   "execution_count": 0,
   "metadata": {
    "colab": {
     "autoexec": {
      "startup": false,
      "wait_interval": 0
     }
    },
    "colab_type": "code",
    "collapsed": true,
    "id": "89N6-EQYoM9n"
   },
   "outputs": [],
   "source": [
    "# Specify the GDrive file-ID and filename to save the file. \n",
    "file_id = '1zsUzSIuZXbRkaM7T64EUtvV6OHWgAZKw'\n",
    "file_name = 'ferplus.csv'\n",
    "\n",
    "# Authentificate Google Drive SDK.\n",
    "auth.authenticate_user()\n",
    "\n",
    "# Load the drive service.\n",
    "drive_service = build('drive', 'v3')\n",
    "\n",
    "# If file is not present, download.\n",
    "if not path.isfile(file_name):\n",
    "\n",
    "  # Build download request and media downloader.\n",
    "  request = drive_service.files().get_media(fileId=file_id)\n",
    "  output_file = io.FileIO(file_name, mode='wb')\n",
    "  downloader = MediaIoBaseDownload(output_file, request)\n",
    "  done = False\n",
    "\n",
    "  # Download chunks.\n",
    "  while done is False:\n",
    "      status, done = downloader.next_chunk()\n",
    "      print('Download %d%%.' % int(status.progress() * 100))\n",
    "\n",
    "  print('Download Complete!')"
   ]
  },
  {
   "cell_type": "code",
   "execution_count": 1,
   "metadata": {
    "colab": {
     "autoexec": {
      "startup": false,
      "wait_interval": 0
     },
     "base_uri": "https://localhost:8080/",
     "height": 69,
     "output_extras": [
      {
       "item_id": 1
      }
     ]
    },
    "colab_type": "code",
    "executionInfo": {
     "elapsed": 658,
     "status": "ok",
     "timestamp": 1521542010591,
     "user": {
      "displayName": "Lewe",
      "photoUrl": "https://lh3.googleusercontent.com/a/default-user=s128",
      "userId": "102436301071476302563"
     },
     "user_tz": -60
    },
    "id": "XPk5txgqrilw",
    "outputId": "b68a8c03-e152-4e2c-9a2a-83626a6c082d"
   },
   "outputs": [
    {
     "name": "stdout",
     "output_type": "stream",
     "text": [
      "total 288M\r\n",
      "drwxr-xr-x 1 root root 4.0K Mar 20 10:19 datalab\r\n",
      "-rw-r--r-- 1 root root 288M Mar 20 10:19 ferplus.csv\r\n"
     ]
    }
   ],
   "source": [
    "# Check if dataset is there.\n",
    "!ls -lh"
   ]
  },
  {
   "cell_type": "markdown",
   "metadata": {
    "colab_type": "text",
    "id": "mU76DjG0ujLs"
   },
   "source": [
    "# Data Preprocessing"
   ]
  },
  {
   "cell_type": "code",
   "execution_count": 2,
   "metadata": {
    "colab": {
     "autoexec": {
      "startup": false,
      "wait_interval": 0
     },
     "base_uri": "https://localhost:8080/",
     "height": 34,
     "output_extras": [
      {
       "item_id": 1
      }
     ]
    },
    "colab_type": "code",
    "executionInfo": {
     "elapsed": 1079,
     "status": "ok",
     "timestamp": 1521543579101,
     "user": {
      "displayName": "Lewe",
      "photoUrl": "https://lh3.googleusercontent.com/a/default-user=s128",
      "userId": "102436301071476302563"
     },
     "user_tz": -60
    },
    "id": "rRZS5XXM9Lm8",
    "outputId": "1ec1d99c-0b6d-49b5-f705-abfa54459978"
   },
   "outputs": [
    {
     "data": {
      "text/plain": [
       "'1.6.0'"
      ]
     },
     "execution_count": 2,
     "metadata": {},
     "output_type": "execute_result"
    }
   ],
   "source": [
    "%matplotlib inline\n",
    "import matplotlib.pyplot as plt\n",
    "import numpy as np\n",
    "import tensorflow as tf\n",
    "import pandas as pd\n",
    "\n",
    "tf.__version__"
   ]
  },
  {
   "cell_type": "code",
   "execution_count": 3,
   "metadata": {
    "colab": {
     "autoexec": {
      "startup": false,
      "wait_interval": 0
     },
     "base_uri": "https://localhost:8080/",
     "height": 1992,
     "output_extras": [
      {
       "item_id": 1
      }
     ]
    },
    "colab_type": "code",
    "executionInfo": {
     "elapsed": 4430,
     "status": "ok",
     "timestamp": 1521543583915,
     "user": {
      "displayName": "Lewe",
      "photoUrl": "https://lh3.googleusercontent.com/a/default-user=s128",
      "userId": "102436301071476302563"
     },
     "user_tz": -60
    },
    "id": "xjPwb10y9LnE",
    "outputId": "1ab1e309-eacc-4ebe-d8d4-bfb8d13333ac"
   },
   "outputs": [
    {
     "ename": "FileNotFoundError",
     "evalue": "File b'ferplus.csv' does not exist",
     "output_type": "error",
     "traceback": [
      "\u001b[0;31m------------------------------------------------------------------\u001b[0m",
      "\u001b[0;31mFileNotFoundError\u001b[0m                Traceback (most recent call last)",
      "\u001b[0;32m<ipython-input-3-30b2d220971d>\u001b[0m in \u001b[0;36m<module>\u001b[0;34m()\u001b[0m\n\u001b[1;32m      1\u001b[0m \u001b[0;31m# read csv with pandas\u001b[0m\u001b[0;34m\u001b[0m\u001b[0;34m\u001b[0m\u001b[0m\n\u001b[0;32m----> 2\u001b[0;31m \u001b[0mferplus\u001b[0m \u001b[0;34m=\u001b[0m \u001b[0mpd\u001b[0m\u001b[0;34m.\u001b[0m\u001b[0mread_csv\u001b[0m\u001b[0;34m(\u001b[0m\u001b[0;34m'ferplus.csv'\u001b[0m\u001b[0;34m)\u001b[0m\u001b[0;34m\u001b[0m\u001b[0m\n\u001b[0m\u001b[1;32m      3\u001b[0m \u001b[0mferplus\u001b[0m\u001b[0;34m.\u001b[0m\u001b[0mhead\u001b[0m\u001b[0;34m\u001b[0m\u001b[0m\n",
      "\u001b[0;32m~/anaconda3/lib/python3.6/site-packages/pandas/io/parsers.py\u001b[0m in \u001b[0;36mparser_f\u001b[0;34m(filepath_or_buffer, sep, delimiter, header, names, index_col, usecols, squeeze, prefix, mangle_dupe_cols, dtype, engine, converters, true_values, false_values, skipinitialspace, skiprows, nrows, na_values, keep_default_na, na_filter, verbose, skip_blank_lines, parse_dates, infer_datetime_format, keep_date_col, date_parser, dayfirst, iterator, chunksize, compression, thousands, decimal, lineterminator, quotechar, quoting, escapechar, comment, encoding, dialect, tupleize_cols, error_bad_lines, warn_bad_lines, skipfooter, skip_footer, doublequote, delim_whitespace, as_recarray, compact_ints, use_unsigned, low_memory, buffer_lines, memory_map, float_precision)\u001b[0m\n\u001b[1;32m    653\u001b[0m                     skip_blank_lines=skip_blank_lines)\n\u001b[1;32m    654\u001b[0m \u001b[0;34m\u001b[0m\u001b[0m\n\u001b[0;32m--> 655\u001b[0;31m         \u001b[0;32mreturn\u001b[0m \u001b[0m_read\u001b[0m\u001b[0;34m(\u001b[0m\u001b[0mfilepath_or_buffer\u001b[0m\u001b[0;34m,\u001b[0m \u001b[0mkwds\u001b[0m\u001b[0;34m)\u001b[0m\u001b[0;34m\u001b[0m\u001b[0m\n\u001b[0m\u001b[1;32m    656\u001b[0m \u001b[0;34m\u001b[0m\u001b[0m\n\u001b[1;32m    657\u001b[0m     \u001b[0mparser_f\u001b[0m\u001b[0;34m.\u001b[0m\u001b[0m__name__\u001b[0m \u001b[0;34m=\u001b[0m \u001b[0mname\u001b[0m\u001b[0;34m\u001b[0m\u001b[0m\n",
      "\u001b[0;32m~/anaconda3/lib/python3.6/site-packages/pandas/io/parsers.py\u001b[0m in \u001b[0;36m_read\u001b[0;34m(filepath_or_buffer, kwds)\u001b[0m\n\u001b[1;32m    403\u001b[0m \u001b[0;34m\u001b[0m\u001b[0m\n\u001b[1;32m    404\u001b[0m     \u001b[0;31m# Create the parser.\u001b[0m\u001b[0;34m\u001b[0m\u001b[0;34m\u001b[0m\u001b[0m\n\u001b[0;32m--> 405\u001b[0;31m     \u001b[0mparser\u001b[0m \u001b[0;34m=\u001b[0m \u001b[0mTextFileReader\u001b[0m\u001b[0;34m(\u001b[0m\u001b[0mfilepath_or_buffer\u001b[0m\u001b[0;34m,\u001b[0m \u001b[0;34m**\u001b[0m\u001b[0mkwds\u001b[0m\u001b[0;34m)\u001b[0m\u001b[0;34m\u001b[0m\u001b[0m\n\u001b[0m\u001b[1;32m    406\u001b[0m \u001b[0;34m\u001b[0m\u001b[0m\n\u001b[1;32m    407\u001b[0m     \u001b[0;32mif\u001b[0m \u001b[0mchunksize\u001b[0m \u001b[0;32mor\u001b[0m \u001b[0miterator\u001b[0m\u001b[0;34m:\u001b[0m\u001b[0;34m\u001b[0m\u001b[0m\n",
      "\u001b[0;32m~/anaconda3/lib/python3.6/site-packages/pandas/io/parsers.py\u001b[0m in \u001b[0;36m__init__\u001b[0;34m(self, f, engine, **kwds)\u001b[0m\n\u001b[1;32m    762\u001b[0m             \u001b[0mself\u001b[0m\u001b[0;34m.\u001b[0m\u001b[0moptions\u001b[0m\u001b[0;34m[\u001b[0m\u001b[0;34m'has_index_names'\u001b[0m\u001b[0;34m]\u001b[0m \u001b[0;34m=\u001b[0m \u001b[0mkwds\u001b[0m\u001b[0;34m[\u001b[0m\u001b[0;34m'has_index_names'\u001b[0m\u001b[0;34m]\u001b[0m\u001b[0;34m\u001b[0m\u001b[0m\n\u001b[1;32m    763\u001b[0m \u001b[0;34m\u001b[0m\u001b[0m\n\u001b[0;32m--> 764\u001b[0;31m         \u001b[0mself\u001b[0m\u001b[0;34m.\u001b[0m\u001b[0m_make_engine\u001b[0m\u001b[0;34m(\u001b[0m\u001b[0mself\u001b[0m\u001b[0;34m.\u001b[0m\u001b[0mengine\u001b[0m\u001b[0;34m)\u001b[0m\u001b[0;34m\u001b[0m\u001b[0m\n\u001b[0m\u001b[1;32m    765\u001b[0m \u001b[0;34m\u001b[0m\u001b[0m\n\u001b[1;32m    766\u001b[0m     \u001b[0;32mdef\u001b[0m \u001b[0mclose\u001b[0m\u001b[0;34m(\u001b[0m\u001b[0mself\u001b[0m\u001b[0;34m)\u001b[0m\u001b[0;34m:\u001b[0m\u001b[0;34m\u001b[0m\u001b[0m\n",
      "\u001b[0;32m~/anaconda3/lib/python3.6/site-packages/pandas/io/parsers.py\u001b[0m in \u001b[0;36m_make_engine\u001b[0;34m(self, engine)\u001b[0m\n\u001b[1;32m    983\u001b[0m     \u001b[0;32mdef\u001b[0m \u001b[0m_make_engine\u001b[0m\u001b[0;34m(\u001b[0m\u001b[0mself\u001b[0m\u001b[0;34m,\u001b[0m \u001b[0mengine\u001b[0m\u001b[0;34m=\u001b[0m\u001b[0;34m'c'\u001b[0m\u001b[0;34m)\u001b[0m\u001b[0;34m:\u001b[0m\u001b[0;34m\u001b[0m\u001b[0m\n\u001b[1;32m    984\u001b[0m         \u001b[0;32mif\u001b[0m \u001b[0mengine\u001b[0m \u001b[0;34m==\u001b[0m \u001b[0;34m'c'\u001b[0m\u001b[0;34m:\u001b[0m\u001b[0;34m\u001b[0m\u001b[0m\n\u001b[0;32m--> 985\u001b[0;31m             \u001b[0mself\u001b[0m\u001b[0;34m.\u001b[0m\u001b[0m_engine\u001b[0m \u001b[0;34m=\u001b[0m \u001b[0mCParserWrapper\u001b[0m\u001b[0;34m(\u001b[0m\u001b[0mself\u001b[0m\u001b[0;34m.\u001b[0m\u001b[0mf\u001b[0m\u001b[0;34m,\u001b[0m \u001b[0;34m**\u001b[0m\u001b[0mself\u001b[0m\u001b[0;34m.\u001b[0m\u001b[0moptions\u001b[0m\u001b[0;34m)\u001b[0m\u001b[0;34m\u001b[0m\u001b[0m\n\u001b[0m\u001b[1;32m    986\u001b[0m         \u001b[0;32melse\u001b[0m\u001b[0;34m:\u001b[0m\u001b[0;34m\u001b[0m\u001b[0m\n\u001b[1;32m    987\u001b[0m             \u001b[0;32mif\u001b[0m \u001b[0mengine\u001b[0m \u001b[0;34m==\u001b[0m \u001b[0;34m'python'\u001b[0m\u001b[0;34m:\u001b[0m\u001b[0;34m\u001b[0m\u001b[0m\n",
      "\u001b[0;32m~/anaconda3/lib/python3.6/site-packages/pandas/io/parsers.py\u001b[0m in \u001b[0;36m__init__\u001b[0;34m(self, src, **kwds)\u001b[0m\n\u001b[1;32m   1603\u001b[0m         \u001b[0mkwds\u001b[0m\u001b[0;34m[\u001b[0m\u001b[0;34m'allow_leading_cols'\u001b[0m\u001b[0;34m]\u001b[0m \u001b[0;34m=\u001b[0m \u001b[0mself\u001b[0m\u001b[0;34m.\u001b[0m\u001b[0mindex_col\u001b[0m \u001b[0;32mis\u001b[0m \u001b[0;32mnot\u001b[0m \u001b[0;32mFalse\u001b[0m\u001b[0;34m\u001b[0m\u001b[0m\n\u001b[1;32m   1604\u001b[0m \u001b[0;34m\u001b[0m\u001b[0m\n\u001b[0;32m-> 1605\u001b[0;31m         \u001b[0mself\u001b[0m\u001b[0;34m.\u001b[0m\u001b[0m_reader\u001b[0m \u001b[0;34m=\u001b[0m \u001b[0mparsers\u001b[0m\u001b[0;34m.\u001b[0m\u001b[0mTextReader\u001b[0m\u001b[0;34m(\u001b[0m\u001b[0msrc\u001b[0m\u001b[0;34m,\u001b[0m \u001b[0;34m**\u001b[0m\u001b[0mkwds\u001b[0m\u001b[0;34m)\u001b[0m\u001b[0;34m\u001b[0m\u001b[0m\n\u001b[0m\u001b[1;32m   1606\u001b[0m \u001b[0;34m\u001b[0m\u001b[0m\n\u001b[1;32m   1607\u001b[0m         \u001b[0;31m# XXX\u001b[0m\u001b[0;34m\u001b[0m\u001b[0;34m\u001b[0m\u001b[0m\n",
      "\u001b[0;32mpandas/_libs/parsers.pyx\u001b[0m in \u001b[0;36mpandas._libs.parsers.TextReader.__cinit__ (pandas/_libs/parsers.c:4209)\u001b[0;34m()\u001b[0m\n",
      "\u001b[0;32mpandas/_libs/parsers.pyx\u001b[0m in \u001b[0;36mpandas._libs.parsers.TextReader._setup_parser_source (pandas/_libs/parsers.c:8873)\u001b[0;34m()\u001b[0m\n",
      "\u001b[0;31mFileNotFoundError\u001b[0m: File b'ferplus.csv' does not exist"
     ]
    }
   ],
   "source": [
    "# read csv with pandas\n",
    "ferplus = pd.read_csv('ferplus.csv')\n",
    "ferplus.head"
   ]
  },
  {
   "cell_type": "code",
   "execution_count": 3,
   "metadata": {
    "colab": {
     "autoexec": {
      "startup": false,
      "wait_interval": 0
     },
     "base_uri": "https://localhost:8080/",
     "height": 34,
     "output_extras": [
      {
       "item_id": 1
      }
     ]
    },
    "colab_type": "code",
    "executionInfo": {
     "elapsed": 56030,
     "status": "ok",
     "timestamp": 1521543644177,
     "user": {
      "displayName": "Lewe",
      "photoUrl": "https://lh3.googleusercontent.com/a/default-user=s128",
      "userId": "102436301071476302563"
     },
     "user_tz": -60
    },
    "id": "mQrM_DeY9LnN",
    "outputId": "eb9595a1-b759-40dd-89ce-41bcaf7bb693"
   },
   "outputs": [
    {
     "data": {
      "text/plain": [
       "dtype('float32')"
      ]
     },
     "execution_count": 3,
     "metadata": {
      "tags": []
     },
     "output_type": "execute_result"
    }
   ],
   "source": [
    "# Extract and cast pixel intensities.\n",
    "ferplus.pixels = ferplus.pixels.str.split()\n",
    "ferplus.pixels = ferplus.pixels.map(lambda p: pd.to_numeric(p, downcast='float'))\n",
    "\n",
    "# Check type of pixel value.\n",
    "ferplus.pixels[0].dtype"
   ]
  },
  {
   "cell_type": "code",
   "execution_count": 0,
   "metadata": {
    "colab": {
     "autoexec": {
      "startup": false,
      "wait_interval": 0
     }
    },
    "colab_type": "code",
    "collapsed": true,
    "id": "dWQ4P0K-9LnZ"
   },
   "outputs": [],
   "source": [
    "# Filter out noface class.\n",
    "ferplus = ferplus.query('NF == 0')\n",
    "# Filter out faces where four or more workers were not sure about the emotion.\n",
    "ferplus = ferplus.query('unknown < 4')"
   ]
  },
  {
   "cell_type": "code",
   "execution_count": 0,
   "metadata": {
    "colab": {
     "autoexec": {
      "startup": false,
      "wait_interval": 0
     }
    },
    "colab_type": "code",
    "collapsed": true,
    "id": "nELE0R_s9Lnf"
   },
   "outputs": [],
   "source": [
    "# Class labels in the usual order.\n",
    "classes = ['anger', 'disgust', 'fear', 'happiness', 'sadness', 'surprise', 'neutral']\n",
    "\n",
    "# Get argmax of class distribution to use as label for each image.\n",
    "labels = ferplus[classes]\n",
    "maxlabels = labels.idxmax(axis=1).map(labels.columns.get_loc)\n",
    "ferplus.insert(loc=12, column='maxlabel', value=maxlabels)"
   ]
  },
  {
   "cell_type": "code",
   "execution_count": 0,
   "metadata": {
    "colab": {
     "autoexec": {
      "startup": false,
      "wait_interval": 0
     }
    },
    "colab_type": "code",
    "collapsed": true,
    "id": "9ZaQjzkk9Lnl"
   },
   "outputs": [],
   "source": [
    "# Split train, test and validation set.\n",
    "train = ferplus.loc[ferplus['Usage'] == 'Training']\n",
    "valid = ferplus.loc[ferplus['Usage'] == 'PublicTest']\n",
    "test = ferplus.loc[ferplus['Usage'] == 'PrivateTest']"
   ]
  },
  {
   "cell_type": "code",
   "execution_count": 0,
   "metadata": {
    "colab": {
     "autoexec": {
      "startup": false,
      "wait_interval": 0
     }
    },
    "colab_type": "code",
    "collapsed": true,
    "id": "L2jiLBxv9Lny"
   },
   "outputs": [],
   "source": [
    "x_test = np.array(test['pixels'].values.tolist())\n",
    "x_train = np.array(train['pixels'].values.tolist())\n",
    "x_valid = np.array(valid['pixels'].values.tolist())\n",
    "\n",
    "y_test = test[classes].values\n",
    "y_train = train[classes].values\n",
    "y_valid = valid[classes].values\n"
   ]
  },
  {
   "cell_type": "code",
   "execution_count": 178,
   "metadata": {
    "colab": {
     "autoexec": {
      "startup": false,
      "wait_interval": 0
     },
     "base_uri": "https://localhost:8080/",
     "height": 34,
     "output_extras": [
      {
       "item_id": 1
      }
     ]
    },
    "colab_type": "code",
    "executionInfo": {
     "elapsed": 489,
     "status": "ok",
     "timestamp": 1521554588805,
     "user": {
      "displayName": "Lewe",
      "photoUrl": "https://lh3.googleusercontent.com/a/default-user=s128",
      "userId": "102436301071476302563"
     },
     "user_tz": -60
    },
    "id": "C8N5SrTtUftJ",
    "outputId": "b8437e57-3684-4b41-9d0f-eada763939b6"
   },
   "outputs": [
    {
     "data": {
      "text/plain": [
       "<tf.Tensor 'ArgMax_5:0' shape=(3482,) dtype=int64>"
      ]
     },
     "execution_count": 178,
     "metadata": {
      "tags": []
     },
     "output_type": "execute_result"
    }
   ],
   "source": [
    "tf.argmax(y_test, axis=1)"
   ]
  },
  {
   "cell_type": "markdown",
   "metadata": {
    "colab_type": "text",
    "id": "E9lHp_-Nm7Qu"
   },
   "source": [
    "## Network and Training Parameters"
   ]
  },
  {
   "cell_type": "code",
   "execution_count": 0,
   "metadata": {
    "colab": {
     "autoexec": {
      "startup": false,
      "wait_interval": 0
     }
    },
    "colab_type": "code",
    "collapsed": true,
    "id": "0F8KJSyhm7x0"
   },
   "outputs": [],
   "source": [
    "# images are 48x48 pixels\n",
    "img_size = 48\n",
    "img_size_flat = img_size * img_size\n",
    "img_shape = (img_size, img_size)\n",
    "\n",
    "# Classes and class labels\n",
    "num_classes = 7\n",
    "\n",
    "# probability to drop a unit (prevent overfitting)\n",
    "dropout = 0.3\n",
    "\n",
    "# training parameters\n",
    "learning_rate = 0.001\n",
    "max_steps = 5000\n",
    "# num_epochs = 10\n",
    "batch_size = 128"
   ]
  },
  {
   "cell_type": "markdown",
   "metadata": {
    "colab_type": "text",
    "id": "oz-zKkphnF08"
   },
   "source": [
    "## Model Architecture"
   ]
  },
  {
   "cell_type": "code",
   "execution_count": 0,
   "metadata": {
    "colab": {
     "autoexec": {
      "startup": false,
      "wait_interval": 0
     }
    },
    "colab_type": "code",
    "collapsed": true,
    "id": "DwhjXwTwnHQp"
   },
   "outputs": [],
   "source": [
    "# Create the neural network\n",
    "def conv_net(x_dict, n_classes, dropout, reuse, is_training):\n",
    "    \n",
    "    # Define a scope for reusing the variables\n",
    "    with tf.variable_scope('ConvNet', reuse=reuse):\n",
    "        # TF Estimator input is a dict, in case of multiple inputs\n",
    "        x = x_dict['images']\n",
    "\n",
    "        # The data input is a 1-D vector of 2304 features (48*48 pixels)\n",
    "        # Reshape to match picture format [Height x Width x Channel]\n",
    "        # 4D Input-Tensor: [Batch Size, Height, Width, Channel]\n",
    "        x = tf.reshape(x, shape=[-1, img_size, img_size, 1])\n",
    "\n",
    "        tf.summary.image(\"img\", x)\n",
    "\n",
    "        # Convolution Layers with 32 filters and a kernel size of 3.\n",
    "        conv1 = tf.layers.conv2d(x, 32, 3, padding='same', activation=tf.nn.relu)\n",
    "        conv1 = tf.layers.conv2d(conv1, 32, 3, padding='same', activation=tf.nn.relu)\n",
    "        # Max Pooling (down-sampling) with strides of 2 and kernel size of 2\n",
    "        conv1 = tf.layers.max_pooling2d(conv1, 2, 2)\n",
    "\n",
    "        # Convolution Layers with 64 filters and a kernel size of 3.\n",
    "        conv2 = tf.layers.conv2d(conv1, 64, 3, padding='same', activation=tf.nn.relu)\n",
    "        conv2 = tf.layers.conv2d(conv2, 64, 3, padding='same', activation=tf.nn.relu)\n",
    "        # Max Pooling (down-sampling) with strides of 2 and kernel size of 2.\n",
    "        conv2 = tf.layers.max_pooling2d(conv2, 2, 2)\n",
    "        \n",
    "        # Convolution Layer with 128 filters and a kernel size of 3\n",
    "        conv3 = tf.layers.conv2d(conv2, 128, 3, padding='same', activation=tf.nn.relu)\n",
    "        conv3 = tf.layers.conv2d(conv3, 128, 3, padding='same', activation=tf.nn.relu)\n",
    "        conv3 = tf.layers.conv2d(conv3, 128, 3, padding='same', activation=tf.nn.relu)\n",
    "        # Max Pooling (down-sampling) with strides of 2 and kernel size of 2.\n",
    "        conv3 = tf.layers.max_pooling2d(conv3, 2, 2)\n",
    "\n",
    "        # Convolution Layers with 256 filters and a kernel size of 3.\n",
    "        conv4 = tf.layers.conv2d(conv3, 256, 3, padding='same', activation=tf.nn.relu)\n",
    "        conv4 = tf.layers.conv2d(conv4, 256, 3, padding='same', activation=tf.nn.relu)\n",
    "        conv4 = tf.layers.conv2d(conv4, 256, 3, padding='same', activation=tf.nn.relu)\n",
    "        # Max Pooling (down-sampling) with strides of 2 and kernel size of 2.\n",
    "        conv4 = tf.layers.max_pooling2d(conv4, 2, 2)\n",
    "\n",
    "        # Flatten the data to a 1-D vector for the fully connected layer.\n",
    "        fc = tf.contrib.layers.flatten(conv4)\n",
    "\n",
    "        # Fully connected layer.\n",
    "        fc = tf.layers.dense(fc, 1024)\n",
    "        # Apply Dropout (only when is_training is True).\n",
    "        fc = tf.layers.dropout(fc, rate=dropout, training=is_training)\n",
    "\n",
    "        # Output layer, class prediction.\n",
    "        out = tf.layers.dense(fc, n_classes)\n",
    "\n",
    "    return out"
   ]
  },
  {
   "cell_type": "code",
   "execution_count": 0,
   "metadata": {
    "colab": {
     "autoexec": {
      "startup": false,
      "wait_interval": 0
     }
    },
    "colab_type": "code",
    "collapsed": true,
    "id": "ekuE9NxnnJnM"
   },
   "outputs": [],
   "source": [
    "# Define the model function (following TF Estimator Template)\n",
    "def model_fn(features, labels, mode):\n",
    "    \n",
    "    # Build the neural network\n",
    "    # Because Dropout have different behavior at training and prediction time, we\n",
    "    # need to create 2 distinct computation graphs that still share the same weights.\n",
    "    logits_train = conv_net(features, num_classes, dropout, reuse=False, is_training=True)\n",
    "    logits_test = conv_net(features, num_classes, dropout, reuse=True, is_training=False)\n",
    "    \n",
    "    # Predictions\n",
    "    pred_classes = tf.argmax(logits_test, axis=1)\n",
    "    pred_probas = tf.nn.softmax(logits_test)\n",
    "    \n",
    "    # If prediction mode, early return\n",
    "    if mode == tf.estimator.ModeKeys.PREDICT:\n",
    "        return tf.estimator.EstimatorSpec(mode,\n",
    "          predictions=pred_classes,\n",
    "          export_outputs={'classes': tf.estimator.export.PredictOutput(pred_classes)}) \n",
    "        \n",
    "    # Define loss and optimizer\n",
    "    loss_op = tf.reduce_mean(tf.nn.sigmoid_cross_entropy_with_logits(\n",
    "        logits=logits_train,\n",
    "        labels=tf.nn.softmax(\n",
    "          tf.cast(labels, dtype=tf.float32)\n",
    "        )\n",
    "    ))\n",
    "    \n",
    "    \n",
    "    optimizer = tf.train.AdamOptimizer(learning_rate=learning_rate)\n",
    "    train_op = optimizer.minimize(loss_op, global_step=tf.train.get_global_step())\n",
    "    \n",
    "    # Evaluate the accuracy of the model using argmax.\n",
    "    acc_op = tf.metrics.accuracy(labels=tf.argmax(labels, axis=1), predictions=pred_classes)\n",
    "    \n",
    "    \n",
    "    # TF Estimators requires to return a EstimatorSpec, that specify\n",
    "    # the different ops for training, evaluating, ...\n",
    "    estim_specs = tf.estimator.EstimatorSpec(\n",
    "      mode=mode,\n",
    "      predictions=pred_classes,\n",
    "      loss=loss_op,\n",
    "      train_op=train_op,\n",
    "      eval_metric_ops={'accuracy': acc_op})\n",
    "\n",
    "    return estim_specs"
   ]
  },
  {
   "cell_type": "code",
   "execution_count": 199,
   "metadata": {
    "colab": {
     "autoexec": {
      "startup": false,
      "wait_interval": 0
     },
     "base_uri": "https://localhost:8080/",
     "height": 72,
     "output_extras": [
      {
       "item_id": 1
      }
     ]
    },
    "colab_type": "code",
    "executionInfo": {
     "elapsed": 532,
     "status": "ok",
     "timestamp": 1521555402185,
     "user": {
      "displayName": "Lewe",
      "photoUrl": "https://lh3.googleusercontent.com/a/default-user=s128",
      "userId": "102436301071476302563"
     },
     "user_tz": -60
    },
    "id": "Jo1O72ohnNcH",
    "outputId": "260a143b-5e4a-4064-dec0-3981c711ebc2"
   },
   "outputs": [
    {
     "name": "stdout",
     "output_type": "stream",
     "text": [
      "INFO:tensorflow:Using default config.\n",
      "INFO:tensorflow:Using config: {'_model_dir': 'model', '_tf_random_seed': None, '_save_summary_steps': 100, '_save_checkpoints_steps': None, '_save_checkpoints_secs': 600, '_session_config': None, '_keep_checkpoint_max': 5, '_keep_checkpoint_every_n_hours': 10000, '_log_step_count_steps': 100, '_service': None, '_cluster_spec': <tensorflow.python.training.server_lib.ClusterSpec object at 0x7fbebae3aef0>, '_task_type': 'worker', '_task_id': 0, '_global_id_in_cluster': 0, '_master': '', '_evaluation_master': '', '_is_chief': True, '_num_ps_replicas': 0, '_num_worker_replicas': 1}\n"
     ]
    }
   ],
   "source": [
    "# Build the Estimator\n",
    "model = tf.estimator.Estimator(model_fn=model_fn, model_dir='model')"
   ]
  },
  {
   "cell_type": "markdown",
   "metadata": {
    "colab_type": "text",
    "id": "IQ2KBfuGnUZv"
   },
   "source": [
    "## Training"
   ]
  },
  {
   "cell_type": "code",
   "execution_count": 0,
   "metadata": {
    "colab": {
     "autoexec": {
      "startup": false,
      "wait_interval": 0
     }
    },
    "colab_type": "code",
    "collapsed": true,
    "id": "1n2Ohu8KqO8_"
   },
   "outputs": [],
   "source": [
    "!rm -Rf model"
   ]
  },
  {
   "cell_type": "code",
   "execution_count": 201,
   "metadata": {
    "colab": {
     "autoexec": {
      "startup": false,
      "wait_interval": 0
     },
     "base_uri": "https://localhost:8080/",
     "height": 16533,
     "output_extras": [
      {
       "item_id": 48
      },
      {
       "item_id": 95
      },
      {
       "item_id": 142
      },
      {
       "item_id": 189
      },
      {
       "item_id": 237
      },
      {
       "item_id": 285
      },
      {
       "item_id": 335
      },
      {
       "item_id": 383
      },
      {
       "item_id": 431
      },
      {
       "item_id": 470
      },
      {
       "item_id": 483
      },
      {
       "item_id": 496
      },
      {
       "item_id": 513
      },
      {
       "item_id": 539
      },
      {
       "item_id": 540
      }
     ]
    },
    "colab_type": "code",
    "executionInfo": {
     "elapsed": 713124,
     "status": "ok",
     "timestamp": 1521556117647,
     "user": {
      "displayName": "Lewe",
      "photoUrl": "https://lh3.googleusercontent.com/a/default-user=s128",
      "userId": "102436301071476302563"
     },
     "user_tz": -60
    },
    "id": "LG-ezh89nVjB",
    "outputId": "6b465c4d-6a09-4820-a093-c785852c140e"
   },
   "outputs": [
    {
     "name": "stdout",
     "output_type": "stream",
     "text": [
      "INFO:tensorflow:Running training and evaluation locally (non-distributed).\n",
      "INFO:tensorflow:Start train and evaluate loop. The evaluate will happen after 20 secs (eval_spec.throttle_secs) or training is finished.\n",
      "INFO:tensorflow:Calling model_fn.\n",
      "duh\n",
      "INFO:tensorflow:Done calling model_fn.\n",
      "INFO:tensorflow:Create CheckpointSaverHook.\n",
      "INFO:tensorflow:Graph was finalized.\n",
      "INFO:tensorflow:Running local_init_op.\n",
      "INFO:tensorflow:Done running local_init_op.\n",
      "INFO:tensorflow:Saving checkpoints for 1 into model/model.ckpt.\n",
      "INFO:tensorflow:loss = 1.017662, step = 1\n",
      "INFO:tensorflow:global_step/sec: 9.77565\n",
      "INFO:tensorflow:loss = 0.34259996, step = 101 (10.237 sec)\n",
      "INFO:tensorflow:Saving checkpoints for 185 into model/model.ckpt.\n",
      "INFO:tensorflow:Loss for final step: 0.3536393.\n",
      "INFO:tensorflow:Calling model_fn.\n",
      "duh\n",
      "INFO:tensorflow:Done calling model_fn.\n",
      "INFO:tensorflow:Starting evaluation at 2018-03-20-14:17:06\n",
      "INFO:tensorflow:Graph was finalized.\n",
      "INFO:tensorflow:Restoring parameters from model/model.ckpt-185\n",
      "INFO:tensorflow:Running local_init_op.\n",
      "INFO:tensorflow:Done running local_init_op.\n",
      "INFO:tensorflow:Evaluation [10/100]\n",
      "INFO:tensorflow:Evaluation [20/100]\n",
      "INFO:tensorflow:Evaluation [30/100]\n",
      "INFO:tensorflow:Evaluation [40/100]\n",
      "INFO:tensorflow:Evaluation [50/100]\n",
      "INFO:tensorflow:Evaluation [60/100]\n",
      "INFO:tensorflow:Evaluation [70/100]\n",
      "INFO:tensorflow:Evaluation [80/100]\n",
      "INFO:tensorflow:Evaluation [90/100]\n",
      "INFO:tensorflow:Evaluation [100/100]\n",
      "INFO:tensorflow:Finished evaluation at 2018-03-20-14:17:10\n",
      "INFO:tensorflow:Saving dict for global step 185: accuracy = 0.35546875, global_step = 185, loss = 0.35664535\n",
      "INFO:tensorflow:Calling model_fn.\n",
      "duh\n",
      "INFO:tensorflow:Done calling model_fn.\n",
      "INFO:tensorflow:Create CheckpointSaverHook.\n",
      "INFO:tensorflow:Graph was finalized.\n",
      "INFO:tensorflow:Restoring parameters from model/model.ckpt-185\n",
      "INFO:tensorflow:Running local_init_op.\n",
      "INFO:tensorflow:Done running local_init_op.\n",
      "INFO:tensorflow:Saving checkpoints for 186 into model/model.ckpt.\n",
      "INFO:tensorflow:loss = 0.36440912, step = 186\n",
      "INFO:tensorflow:global_step/sec: 9.84051\n",
      "INFO:tensorflow:loss = 0.34402147, step = 286 (10.171 sec)\n",
      "INFO:tensorflow:Saving checkpoints for 370 into model/model.ckpt.\n",
      "INFO:tensorflow:Loss for final step: 0.30735084.\n",
      "INFO:tensorflow:Calling model_fn.\n",
      "duh\n",
      "INFO:tensorflow:Done calling model_fn.\n",
      "INFO:tensorflow:Starting evaluation at 2018-03-20-14:17:32\n",
      "INFO:tensorflow:Graph was finalized.\n",
      "INFO:tensorflow:Restoring parameters from model/model.ckpt-370\n",
      "INFO:tensorflow:Running local_init_op.\n",
      "INFO:tensorflow:Done running local_init_op.\n",
      "INFO:tensorflow:Evaluation [10/100]\n",
      "INFO:tensorflow:Evaluation [20/100]\n",
      "INFO:tensorflow:Evaluation [30/100]\n",
      "INFO:tensorflow:Evaluation [40/100]\n",
      "INFO:tensorflow:Evaluation [50/100]\n",
      "INFO:tensorflow:Evaluation [60/100]\n",
      "INFO:tensorflow:Evaluation [70/100]\n",
      "INFO:tensorflow:Evaluation [80/100]\n",
      "INFO:tensorflow:Evaluation [90/100]\n",
      "INFO:tensorflow:Evaluation [100/100]\n",
      "INFO:tensorflow:Finished evaluation at 2018-03-20-14:17:36\n",
      "INFO:tensorflow:Saving dict for global step 370: accuracy = 0.543125, global_step = 370, loss = 0.29373345\n",
      "INFO:tensorflow:Calling model_fn.\n",
      "duh\n",
      "INFO:tensorflow:Done calling model_fn.\n",
      "INFO:tensorflow:Create CheckpointSaverHook.\n",
      "INFO:tensorflow:Graph was finalized.\n",
      "INFO:tensorflow:Restoring parameters from model/model.ckpt-370\n",
      "INFO:tensorflow:Running local_init_op.\n",
      "INFO:tensorflow:Done running local_init_op.\n",
      "INFO:tensorflow:Saving checkpoints for 371 into model/model.ckpt.\n",
      "INFO:tensorflow:loss = 0.31319746, step = 371\n",
      "INFO:tensorflow:global_step/sec: 9.83464\n",
      "INFO:tensorflow:loss = 0.26801887, step = 471 (10.174 sec)\n",
      "INFO:tensorflow:Saving checkpoints for 555 into model/model.ckpt.\n",
      "INFO:tensorflow:Loss for final step: 0.26919332.\n",
      "INFO:tensorflow:Calling model_fn.\n",
      "duh\n",
      "INFO:tensorflow:Done calling model_fn.\n",
      "INFO:tensorflow:Starting evaluation at 2018-03-20-14:17:58\n",
      "INFO:tensorflow:Graph was finalized.\n",
      "INFO:tensorflow:Restoring parameters from model/model.ckpt-555\n",
      "INFO:tensorflow:Running local_init_op.\n",
      "INFO:tensorflow:Done running local_init_op.\n",
      "INFO:tensorflow:Evaluation [10/100]\n",
      "INFO:tensorflow:Evaluation [20/100]\n",
      "INFO:tensorflow:Evaluation [30/100]\n",
      "INFO:tensorflow:Evaluation [40/100]\n",
      "INFO:tensorflow:Evaluation [50/100]\n",
      "INFO:tensorflow:Evaluation [60/100]\n",
      "INFO:tensorflow:Evaluation [70/100]\n",
      "INFO:tensorflow:Evaluation [80/100]\n",
      "INFO:tensorflow:Evaluation [90/100]\n",
      "INFO:tensorflow:Evaluation [100/100]\n",
      "INFO:tensorflow:Finished evaluation at 2018-03-20-14:18:02\n",
      "INFO:tensorflow:Saving dict for global step 555: accuracy = 0.6230469, global_step = 555, loss = 0.24806282\n",
      "INFO:tensorflow:Calling model_fn.\n",
      "duh\n",
      "INFO:tensorflow:Done calling model_fn.\n",
      "INFO:tensorflow:Create CheckpointSaverHook.\n",
      "INFO:tensorflow:Graph was finalized.\n",
      "INFO:tensorflow:Restoring parameters from model/model.ckpt-555\n",
      "INFO:tensorflow:Running local_init_op.\n",
      "INFO:tensorflow:Done running local_init_op.\n",
      "INFO:tensorflow:Saving checkpoints for 556 into model/model.ckpt.\n",
      "INFO:tensorflow:loss = 0.25162128, step = 556\n",
      "INFO:tensorflow:global_step/sec: 9.78642\n",
      "INFO:tensorflow:loss = 0.2419654, step = 656 (10.224 sec)\n",
      "INFO:tensorflow:Saving checkpoints for 739 into model/model.ckpt.\n",
      "INFO:tensorflow:Loss for final step: 0.22906086.\n",
      "INFO:tensorflow:Calling model_fn.\n",
      "duh\n",
      "INFO:tensorflow:Done calling model_fn.\n",
      "INFO:tensorflow:Starting evaluation at 2018-03-20-14:18:24\n",
      "INFO:tensorflow:Graph was finalized.\n",
      "INFO:tensorflow:Restoring parameters from model/model.ckpt-739\n",
      "INFO:tensorflow:Running local_init_op.\n",
      "INFO:tensorflow:Done running local_init_op.\n",
      "INFO:tensorflow:Evaluation [10/100]\n",
      "INFO:tensorflow:Evaluation [20/100]\n",
      "INFO:tensorflow:Evaluation [30/100]\n",
      "INFO:tensorflow:Evaluation [40/100]\n",
      "INFO:tensorflow:Evaluation [50/100]\n",
      "INFO:tensorflow:Evaluation [60/100]\n",
      "INFO:tensorflow:Evaluation [70/100]\n",
      "INFO:tensorflow:Evaluation [80/100]\n",
      "INFO:tensorflow:Evaluation [90/100]\n",
      "INFO:tensorflow:Evaluation [100/100]\n",
      "INFO:tensorflow:Finished evaluation at 2018-03-20-14:18:28\n",
      "INFO:tensorflow:Saving dict for global step 739: accuracy = 0.65851563, global_step = 739, loss = 0.22686155\n",
      "INFO:tensorflow:Calling model_fn.\n",
      "duh\n",
      "INFO:tensorflow:Done calling model_fn.\n",
      "INFO:tensorflow:Create CheckpointSaverHook.\n",
      "INFO:tensorflow:Graph was finalized.\n",
      "INFO:tensorflow:Restoring parameters from model/model.ckpt-739\n",
      "INFO:tensorflow:Running local_init_op.\n",
      "INFO:tensorflow:Done running local_init_op.\n",
      "INFO:tensorflow:Saving checkpoints for 740 into model/model.ckpt.\n",
      "INFO:tensorflow:loss = 0.22240667, step = 740\n",
      "INFO:tensorflow:global_step/sec: 9.80663\n",
      "INFO:tensorflow:loss = 0.21670605, step = 840 (10.200 sec)\n",
      "INFO:tensorflow:Saving checkpoints for 924 into model/model.ckpt.\n",
      "INFO:tensorflow:Loss for final step: 0.20394358.\n",
      "INFO:tensorflow:Calling model_fn.\n",
      "duh\n",
      "INFO:tensorflow:Done calling model_fn.\n",
      "INFO:tensorflow:Starting evaluation at 2018-03-20-14:18:51\n",
      "INFO:tensorflow:Graph was finalized.\n",
      "INFO:tensorflow:Restoring parameters from model/model.ckpt-924\n",
      "INFO:tensorflow:Running local_init_op.\n",
      "INFO:tensorflow:Done running local_init_op.\n",
      "INFO:tensorflow:Evaluation [10/100]\n",
      "INFO:tensorflow:Evaluation [20/100]\n",
      "INFO:tensorflow:Evaluation [30/100]\n",
      "INFO:tensorflow:Evaluation [40/100]\n",
      "INFO:tensorflow:Evaluation [50/100]\n",
      "INFO:tensorflow:Evaluation [60/100]\n",
      "INFO:tensorflow:Evaluation [70/100]\n",
      "INFO:tensorflow:Evaluation [80/100]\n",
      "INFO:tensorflow:Evaluation [90/100]\n",
      "INFO:tensorflow:Evaluation [100/100]\n",
      "INFO:tensorflow:Finished evaluation at 2018-03-20-14:18:55\n",
      "INFO:tensorflow:Saving dict for global step 924: accuracy = 0.67796874, global_step = 924, loss = 0.21613038\n",
      "INFO:tensorflow:Calling model_fn.\n",
      "duh\n",
      "INFO:tensorflow:Done calling model_fn.\n",
      "INFO:tensorflow:Create CheckpointSaverHook.\n",
      "INFO:tensorflow:Graph was finalized.\n",
      "INFO:tensorflow:Restoring parameters from model/model.ckpt-924\n",
      "INFO:tensorflow:Running local_init_op.\n",
      "INFO:tensorflow:Done running local_init_op.\n",
      "INFO:tensorflow:Saving checkpoints for 925 into model/model.ckpt.\n",
      "INFO:tensorflow:loss = 0.22315781, step = 925\n",
      "INFO:tensorflow:global_step/sec: 9.8346\n",
      "INFO:tensorflow:loss = 0.22358955, step = 1025 (10.175 sec)\n",
      "INFO:tensorflow:Saving checkpoints for 1107 into model/model.ckpt.\n",
      "INFO:tensorflow:Loss for final step: 0.2104079.\n",
      "INFO:tensorflow:Calling model_fn.\n",
      "duh\n",
      "INFO:tensorflow:Done calling model_fn.\n",
      "INFO:tensorflow:Starting evaluation at 2018-03-20-14:19:16\n",
      "INFO:tensorflow:Graph was finalized.\n",
      "INFO:tensorflow:Restoring parameters from model/model.ckpt-1107\n",
      "INFO:tensorflow:Running local_init_op.\n",
      "INFO:tensorflow:Done running local_init_op.\n",
      "INFO:tensorflow:Evaluation [10/100]\n",
      "INFO:tensorflow:Evaluation [20/100]\n",
      "INFO:tensorflow:Evaluation [30/100]\n",
      "INFO:tensorflow:Evaluation [40/100]\n",
      "INFO:tensorflow:Evaluation [50/100]\n",
      "INFO:tensorflow:Evaluation [60/100]\n",
      "INFO:tensorflow:Evaluation [70/100]\n",
      "INFO:tensorflow:Evaluation [80/100]\n",
      "INFO:tensorflow:Evaluation [90/100]\n"
     ]
    },
    {
     "name": "stdout",
     "output_type": "stream",
     "text": [
      "INFO:tensorflow:Evaluation [100/100]\n",
      "INFO:tensorflow:Finished evaluation at 2018-03-20-14:19:20\n",
      "INFO:tensorflow:Saving dict for global step 1107: accuracy = 0.6944531, global_step = 1107, loss = 0.20398523\n",
      "INFO:tensorflow:Calling model_fn.\n",
      "duh\n",
      "INFO:tensorflow:Done calling model_fn.\n",
      "INFO:tensorflow:Create CheckpointSaverHook.\n",
      "INFO:tensorflow:Graph was finalized.\n",
      "INFO:tensorflow:Restoring parameters from model/model.ckpt-1107\n",
      "INFO:tensorflow:Running local_init_op.\n",
      "INFO:tensorflow:Done running local_init_op.\n",
      "INFO:tensorflow:Saving checkpoints for 1108 into model/model.ckpt.\n",
      "INFO:tensorflow:loss = 0.17822644, step = 1108\n",
      "INFO:tensorflow:global_step/sec: 9.83894\n",
      "INFO:tensorflow:loss = 0.19862929, step = 1208 (10.172 sec)\n",
      "INFO:tensorflow:Saving checkpoints for 1292 into model/model.ckpt.\n",
      "INFO:tensorflow:Loss for final step: 0.20851615.\n",
      "INFO:tensorflow:Calling model_fn.\n",
      "duh\n",
      "INFO:tensorflow:Done calling model_fn.\n",
      "INFO:tensorflow:Starting evaluation at 2018-03-20-14:19:42\n",
      "INFO:tensorflow:Graph was finalized.\n",
      "INFO:tensorflow:Restoring parameters from model/model.ckpt-1292\n",
      "INFO:tensorflow:Running local_init_op.\n",
      "INFO:tensorflow:Done running local_init_op.\n",
      "INFO:tensorflow:Evaluation [10/100]\n",
      "INFO:tensorflow:Evaluation [20/100]\n",
      "INFO:tensorflow:Evaluation [30/100]\n",
      "INFO:tensorflow:Evaluation [40/100]\n",
      "INFO:tensorflow:Evaluation [50/100]\n",
      "INFO:tensorflow:Evaluation [60/100]\n",
      "INFO:tensorflow:Evaluation [70/100]\n",
      "INFO:tensorflow:Evaluation [80/100]\n",
      "INFO:tensorflow:Evaluation [90/100]\n",
      "INFO:tensorflow:Evaluation [100/100]\n",
      "INFO:tensorflow:Finished evaluation at 2018-03-20-14:19:46\n",
      "INFO:tensorflow:Saving dict for global step 1292: accuracy = 0.72335935, global_step = 1292, loss = 0.19385056\n",
      "INFO:tensorflow:Calling model_fn.\n",
      "duh\n",
      "INFO:tensorflow:Done calling model_fn.\n",
      "INFO:tensorflow:Create CheckpointSaverHook.\n",
      "INFO:tensorflow:Graph was finalized.\n",
      "INFO:tensorflow:Restoring parameters from model/model.ckpt-1292\n",
      "INFO:tensorflow:Running local_init_op.\n",
      "INFO:tensorflow:Done running local_init_op.\n",
      "INFO:tensorflow:Saving checkpoints for 1293 into model/model.ckpt.\n",
      "INFO:tensorflow:loss = 0.18721895, step = 1293\n",
      "INFO:tensorflow:global_step/sec: 9.8055\n",
      "INFO:tensorflow:loss = 0.1696317, step = 1393 (10.202 sec)\n",
      "INFO:tensorflow:Saving checkpoints for 1476 into model/model.ckpt.\n",
      "INFO:tensorflow:Loss for final step: 0.16888429.\n",
      "INFO:tensorflow:Calling model_fn.\n",
      "duh\n",
      "INFO:tensorflow:Done calling model_fn.\n",
      "INFO:tensorflow:Starting evaluation at 2018-03-20-14:20:08\n",
      "INFO:tensorflow:Graph was finalized.\n",
      "INFO:tensorflow:Restoring parameters from model/model.ckpt-1476\n",
      "INFO:tensorflow:Running local_init_op.\n",
      "INFO:tensorflow:Done running local_init_op.\n",
      "INFO:tensorflow:Evaluation [10/100]\n",
      "INFO:tensorflow:Evaluation [20/100]\n",
      "INFO:tensorflow:Evaluation [30/100]\n",
      "INFO:tensorflow:Evaluation [40/100]\n",
      "INFO:tensorflow:Evaluation [50/100]\n",
      "INFO:tensorflow:Evaluation [60/100]\n",
      "INFO:tensorflow:Evaluation [70/100]\n",
      "INFO:tensorflow:Evaluation [80/100]\n",
      "INFO:tensorflow:Evaluation [90/100]\n",
      "INFO:tensorflow:Evaluation [100/100]\n",
      "INFO:tensorflow:Finished evaluation at 2018-03-20-14:20:12\n",
      "INFO:tensorflow:Saving dict for global step 1476: accuracy = 0.720625, global_step = 1476, loss = 0.1959625\n",
      "INFO:tensorflow:Calling model_fn.\n",
      "duh\n",
      "INFO:tensorflow:Done calling model_fn.\n",
      "INFO:tensorflow:Create CheckpointSaverHook.\n",
      "INFO:tensorflow:Graph was finalized.\n",
      "INFO:tensorflow:Restoring parameters from model/model.ckpt-1476\n",
      "INFO:tensorflow:Running local_init_op.\n",
      "INFO:tensorflow:Done running local_init_op.\n",
      "INFO:tensorflow:Saving checkpoints for 1477 into model/model.ckpt.\n",
      "INFO:tensorflow:loss = 0.19556996, step = 1477\n",
      "INFO:tensorflow:global_step/sec: 9.80752\n",
      "INFO:tensorflow:loss = 0.16960315, step = 1577 (10.205 sec)\n",
      "INFO:tensorflow:Saving checkpoints for 1660 into model/model.ckpt.\n",
      "INFO:tensorflow:Loss for final step: 0.13955823.\n",
      "INFO:tensorflow:Calling model_fn.\n",
      "duh\n",
      "INFO:tensorflow:Done calling model_fn.\n",
      "INFO:tensorflow:Starting evaluation at 2018-03-20-14:20:35\n",
      "INFO:tensorflow:Graph was finalized.\n",
      "INFO:tensorflow:Restoring parameters from model/model.ckpt-1660\n",
      "INFO:tensorflow:Running local_init_op.\n",
      "INFO:tensorflow:Done running local_init_op.\n",
      "INFO:tensorflow:Evaluation [10/100]\n",
      "INFO:tensorflow:Evaluation [20/100]\n",
      "INFO:tensorflow:Evaluation [30/100]\n",
      "INFO:tensorflow:Evaluation [40/100]\n",
      "INFO:tensorflow:Evaluation [50/100]\n",
      "INFO:tensorflow:Evaluation [60/100]\n",
      "INFO:tensorflow:Evaluation [70/100]\n",
      "INFO:tensorflow:Evaluation [80/100]\n",
      "INFO:tensorflow:Evaluation [90/100]\n",
      "INFO:tensorflow:Evaluation [100/100]\n",
      "INFO:tensorflow:Finished evaluation at 2018-03-20-14:20:39\n",
      "INFO:tensorflow:Saving dict for global step 1660: accuracy = 0.73859376, global_step = 1660, loss = 0.1905419\n",
      "INFO:tensorflow:Calling model_fn.\n",
      "duh\n",
      "INFO:tensorflow:Done calling model_fn.\n",
      "INFO:tensorflow:Create CheckpointSaverHook.\n",
      "INFO:tensorflow:Graph was finalized.\n",
      "INFO:tensorflow:Restoring parameters from model/model.ckpt-1660\n",
      "INFO:tensorflow:Running local_init_op.\n",
      "INFO:tensorflow:Done running local_init_op.\n",
      "INFO:tensorflow:Saving checkpoints for 1661 into model/model.ckpt.\n",
      "INFO:tensorflow:loss = 0.14572427, step = 1661\n",
      "INFO:tensorflow:global_step/sec: 9.78039\n",
      "INFO:tensorflow:loss = 0.15645106, step = 1761 (10.226 sec)\n",
      "INFO:tensorflow:Saving checkpoints for 1845 into model/model.ckpt.\n",
      "INFO:tensorflow:Loss for final step: 0.13441558.\n",
      "INFO:tensorflow:Calling model_fn.\n",
      "duh\n",
      "INFO:tensorflow:Done calling model_fn.\n",
      "INFO:tensorflow:Starting evaluation at 2018-03-20-14:21:01\n",
      "INFO:tensorflow:Graph was finalized.\n",
      "INFO:tensorflow:Restoring parameters from model/model.ckpt-1845\n",
      "INFO:tensorflow:Running local_init_op.\n",
      "INFO:tensorflow:Done running local_init_op.\n",
      "INFO:tensorflow:Evaluation [10/100]\n",
      "INFO:tensorflow:Evaluation [20/100]\n",
      "INFO:tensorflow:Evaluation [30/100]\n",
      "INFO:tensorflow:Evaluation [40/100]\n",
      "INFO:tensorflow:Evaluation [50/100]\n",
      "INFO:tensorflow:Evaluation [60/100]\n",
      "INFO:tensorflow:Evaluation [70/100]\n",
      "INFO:tensorflow:Evaluation [80/100]\n",
      "INFO:tensorflow:Evaluation [90/100]\n",
      "INFO:tensorflow:Evaluation [100/100]\n",
      "INFO:tensorflow:Finished evaluation at 2018-03-20-14:21:05\n",
      "INFO:tensorflow:Saving dict for global step 1845: accuracy = 0.7325, global_step = 1845, loss = 0.19578302\n",
      "INFO:tensorflow:Calling model_fn.\n",
      "duh\n",
      "INFO:tensorflow:Done calling model_fn.\n",
      "INFO:tensorflow:Create CheckpointSaverHook.\n",
      "INFO:tensorflow:Graph was finalized.\n",
      "INFO:tensorflow:Restoring parameters from model/model.ckpt-1845\n",
      "INFO:tensorflow:Running local_init_op.\n",
      "INFO:tensorflow:Done running local_init_op.\n",
      "INFO:tensorflow:Saving checkpoints for 1846 into model/model.ckpt.\n",
      "INFO:tensorflow:loss = 0.17614412, step = 1846\n",
      "INFO:tensorflow:global_step/sec: 9.82782\n",
      "INFO:tensorflow:loss = 0.13865708, step = 1946 (10.183 sec)\n",
      "INFO:tensorflow:Saving checkpoints for 2029 into model/model.ckpt.\n",
      "INFO:tensorflow:Loss for final step: 0.1706635.\n",
      "INFO:tensorflow:Calling model_fn.\n",
      "duh\n",
      "INFO:tensorflow:Done calling model_fn.\n",
      "INFO:tensorflow:Starting evaluation at 2018-03-20-14:21:27\n",
      "INFO:tensorflow:Graph was finalized.\n",
      "INFO:tensorflow:Restoring parameters from model/model.ckpt-2029\n",
      "INFO:tensorflow:Running local_init_op.\n",
      "INFO:tensorflow:Done running local_init_op.\n",
      "INFO:tensorflow:Evaluation [10/100]\n",
      "INFO:tensorflow:Evaluation [20/100]\n",
      "INFO:tensorflow:Evaluation [30/100]\n",
      "INFO:tensorflow:Evaluation [40/100]\n",
      "INFO:tensorflow:Evaluation [50/100]\n",
      "INFO:tensorflow:Evaluation [60/100]\n",
      "INFO:tensorflow:Evaluation [70/100]\n",
      "INFO:tensorflow:Evaluation [80/100]\n",
      "INFO:tensorflow:Evaluation [90/100]\n",
      "INFO:tensorflow:Evaluation [100/100]\n",
      "INFO:tensorflow:Finished evaluation at 2018-03-20-14:21:31\n",
      "INFO:tensorflow:Saving dict for global step 2029: accuracy = 0.7271094, global_step = 2029, loss = 0.2015537\n",
      "INFO:tensorflow:Calling model_fn.\n",
      "duh\n",
      "INFO:tensorflow:Done calling model_fn.\n",
      "INFO:tensorflow:Create CheckpointSaverHook.\n",
      "INFO:tensorflow:Graph was finalized.\n",
      "INFO:tensorflow:Restoring parameters from model/model.ckpt-2029\n",
      "INFO:tensorflow:Running local_init_op.\n",
      "INFO:tensorflow:Done running local_init_op.\n",
      "INFO:tensorflow:Saving checkpoints for 2030 into model/model.ckpt.\n",
      "INFO:tensorflow:loss = 0.12288274, step = 2030\n",
      "INFO:tensorflow:global_step/sec: 9.79161\n",
      "INFO:tensorflow:loss = 0.13019511, step = 2130 (10.220 sec)\n",
      "INFO:tensorflow:Saving checkpoints for 2213 into model/model.ckpt.\n",
      "INFO:tensorflow:Loss for final step: 0.15006402.\n",
      "INFO:tensorflow:Calling model_fn.\n",
      "duh\n",
      "INFO:tensorflow:Done calling model_fn.\n",
      "INFO:tensorflow:Starting evaluation at 2018-03-20-14:21:53\n",
      "INFO:tensorflow:Graph was finalized.\n",
      "INFO:tensorflow:Restoring parameters from model/model.ckpt-2213\n",
      "INFO:tensorflow:Running local_init_op.\n",
      "INFO:tensorflow:Done running local_init_op.\n",
      "INFO:tensorflow:Evaluation [10/100]\n",
      "INFO:tensorflow:Evaluation [20/100]\n",
      "INFO:tensorflow:Evaluation [30/100]\n",
      "INFO:tensorflow:Evaluation [40/100]\n",
      "INFO:tensorflow:Evaluation [50/100]\n",
      "INFO:tensorflow:Evaluation [60/100]\n",
      "INFO:tensorflow:Evaluation [70/100]\n",
      "INFO:tensorflow:Evaluation [80/100]\n"
     ]
    },
    {
     "name": "stdout",
     "output_type": "stream",
     "text": [
      "INFO:tensorflow:Evaluation [90/100]\n",
      "INFO:tensorflow:Evaluation [100/100]\n",
      "INFO:tensorflow:Finished evaluation at 2018-03-20-14:21:57\n",
      "INFO:tensorflow:Saving dict for global step 2213: accuracy = 0.7391406, global_step = 2213, loss = 0.19437027\n",
      "INFO:tensorflow:Calling model_fn.\n",
      "duh\n",
      "INFO:tensorflow:Done calling model_fn.\n",
      "INFO:tensorflow:Create CheckpointSaverHook.\n",
      "INFO:tensorflow:Graph was finalized.\n",
      "INFO:tensorflow:Restoring parameters from model/model.ckpt-2213\n",
      "INFO:tensorflow:Running local_init_op.\n",
      "INFO:tensorflow:Done running local_init_op.\n",
      "INFO:tensorflow:Saving checkpoints for 2214 into model/model.ckpt.\n",
      "INFO:tensorflow:loss = 0.14384262, step = 2214\n",
      "INFO:tensorflow:global_step/sec: 9.79024\n",
      "INFO:tensorflow:loss = 0.10439064, step = 2314 (10.219 sec)\n",
      "INFO:tensorflow:Saving checkpoints for 2397 into model/model.ckpt.\n",
      "INFO:tensorflow:Loss for final step: 0.13437231.\n",
      "INFO:tensorflow:Calling model_fn.\n",
      "duh\n",
      "INFO:tensorflow:Done calling model_fn.\n",
      "INFO:tensorflow:Starting evaluation at 2018-03-20-14:22:19\n",
      "INFO:tensorflow:Graph was finalized.\n",
      "INFO:tensorflow:Restoring parameters from model/model.ckpt-2397\n",
      "INFO:tensorflow:Running local_init_op.\n",
      "INFO:tensorflow:Done running local_init_op.\n",
      "INFO:tensorflow:Evaluation [10/100]\n",
      "INFO:tensorflow:Evaluation [20/100]\n",
      "INFO:tensorflow:Evaluation [30/100]\n",
      "INFO:tensorflow:Evaluation [40/100]\n",
      "INFO:tensorflow:Evaluation [50/100]\n",
      "INFO:tensorflow:Evaluation [60/100]\n",
      "INFO:tensorflow:Evaluation [70/100]\n",
      "INFO:tensorflow:Evaluation [80/100]\n",
      "INFO:tensorflow:Evaluation [90/100]\n",
      "INFO:tensorflow:Evaluation [100/100]\n",
      "INFO:tensorflow:Finished evaluation at 2018-03-20-14:22:23\n",
      "INFO:tensorflow:Saving dict for global step 2397: accuracy = 0.7325, global_step = 2397, loss = 0.20000197\n",
      "INFO:tensorflow:Calling model_fn.\n",
      "duh\n",
      "INFO:tensorflow:Done calling model_fn.\n",
      "INFO:tensorflow:Create CheckpointSaverHook.\n",
      "INFO:tensorflow:Graph was finalized.\n",
      "INFO:tensorflow:Restoring parameters from model/model.ckpt-2397\n",
      "INFO:tensorflow:Running local_init_op.\n",
      "INFO:tensorflow:Done running local_init_op.\n",
      "INFO:tensorflow:Saving checkpoints for 2398 into model/model.ckpt.\n",
      "INFO:tensorflow:loss = 0.13361438, step = 2398\n",
      "INFO:tensorflow:global_step/sec: 9.78373\n",
      "INFO:tensorflow:loss = 0.12593652, step = 2498 (10.224 sec)\n",
      "INFO:tensorflow:Saving checkpoints for 2579 into model/model.ckpt.\n",
      "INFO:tensorflow:Loss for final step: 0.124872684.\n",
      "INFO:tensorflow:Calling model_fn.\n",
      "duh\n",
      "INFO:tensorflow:Done calling model_fn.\n",
      "INFO:tensorflow:Starting evaluation at 2018-03-20-14:22:45\n",
      "INFO:tensorflow:Graph was finalized.\n",
      "INFO:tensorflow:Restoring parameters from model/model.ckpt-2579\n",
      "INFO:tensorflow:Running local_init_op.\n",
      "INFO:tensorflow:Done running local_init_op.\n",
      "INFO:tensorflow:Evaluation [10/100]\n",
      "INFO:tensorflow:Evaluation [20/100]\n",
      "INFO:tensorflow:Evaluation [30/100]\n",
      "INFO:tensorflow:Evaluation [40/100]\n",
      "INFO:tensorflow:Evaluation [50/100]\n",
      "INFO:tensorflow:Evaluation [60/100]\n",
      "INFO:tensorflow:Evaluation [70/100]\n",
      "INFO:tensorflow:Evaluation [80/100]\n",
      "INFO:tensorflow:Evaluation [90/100]\n",
      "INFO:tensorflow:Evaluation [100/100]\n",
      "INFO:tensorflow:Finished evaluation at 2018-03-20-14:22:49\n",
      "INFO:tensorflow:Saving dict for global step 2579: accuracy = 0.73992187, global_step = 2579, loss = 0.19774616\n",
      "INFO:tensorflow:Calling model_fn.\n",
      "duh\n",
      "INFO:tensorflow:Done calling model_fn.\n",
      "INFO:tensorflow:Create CheckpointSaverHook.\n",
      "INFO:tensorflow:Graph was finalized.\n",
      "INFO:tensorflow:Restoring parameters from model/model.ckpt-2579\n",
      "INFO:tensorflow:Running local_init_op.\n",
      "INFO:tensorflow:Done running local_init_op.\n",
      "INFO:tensorflow:Saving checkpoints for 2580 into model/model.ckpt.\n",
      "INFO:tensorflow:loss = 0.115934074, step = 2580\n",
      "INFO:tensorflow:global_step/sec: 9.86229\n",
      "INFO:tensorflow:loss = 0.12247356, step = 2680 (10.145 sec)\n",
      "INFO:tensorflow:Saving checkpoints for 2764 into model/model.ckpt.\n",
      "INFO:tensorflow:Loss for final step: 0.10963949.\n",
      "INFO:tensorflow:Calling model_fn.\n",
      "duh\n",
      "INFO:tensorflow:Done calling model_fn.\n",
      "INFO:tensorflow:Starting evaluation at 2018-03-20-14:23:11\n",
      "INFO:tensorflow:Graph was finalized.\n",
      "INFO:tensorflow:Restoring parameters from model/model.ckpt-2764\n",
      "INFO:tensorflow:Running local_init_op.\n",
      "INFO:tensorflow:Done running local_init_op.\n",
      "INFO:tensorflow:Evaluation [10/100]\n",
      "INFO:tensorflow:Evaluation [20/100]\n",
      "INFO:tensorflow:Evaluation [30/100]\n",
      "INFO:tensorflow:Evaluation [40/100]\n",
      "INFO:tensorflow:Evaluation [50/100]\n",
      "INFO:tensorflow:Evaluation [60/100]\n",
      "INFO:tensorflow:Evaluation [70/100]\n",
      "INFO:tensorflow:Evaluation [80/100]\n",
      "INFO:tensorflow:Evaluation [90/100]\n",
      "INFO:tensorflow:Evaluation [100/100]\n",
      "INFO:tensorflow:Finished evaluation at 2018-03-20-14:23:15\n",
      "INFO:tensorflow:Saving dict for global step 2764: accuracy = 0.73976564, global_step = 2764, loss = 0.20124304\n",
      "INFO:tensorflow:Calling model_fn.\n",
      "duh\n",
      "INFO:tensorflow:Done calling model_fn.\n",
      "INFO:tensorflow:Create CheckpointSaverHook.\n",
      "INFO:tensorflow:Graph was finalized.\n",
      "INFO:tensorflow:Restoring parameters from model/model.ckpt-2764\n",
      "INFO:tensorflow:Running local_init_op.\n",
      "INFO:tensorflow:Done running local_init_op.\n",
      "INFO:tensorflow:Saving checkpoints for 2765 into model/model.ckpt.\n",
      "INFO:tensorflow:loss = 0.11212271, step = 2765\n",
      "INFO:tensorflow:global_step/sec: 9.81107\n",
      "INFO:tensorflow:loss = 0.099138066, step = 2865 (10.197 sec)\n",
      "INFO:tensorflow:Saving checkpoints for 2949 into model/model.ckpt.\n",
      "INFO:tensorflow:Loss for final step: 0.119746685.\n",
      "INFO:tensorflow:Calling model_fn.\n",
      "duh\n",
      "INFO:tensorflow:Done calling model_fn.\n",
      "INFO:tensorflow:Starting evaluation at 2018-03-20-14:23:37\n",
      "INFO:tensorflow:Graph was finalized.\n",
      "INFO:tensorflow:Restoring parameters from model/model.ckpt-2949\n",
      "INFO:tensorflow:Running local_init_op.\n",
      "INFO:tensorflow:Done running local_init_op.\n",
      "INFO:tensorflow:Evaluation [10/100]\n",
      "INFO:tensorflow:Evaluation [20/100]\n",
      "INFO:tensorflow:Evaluation [30/100]\n",
      "INFO:tensorflow:Evaluation [40/100]\n",
      "INFO:tensorflow:Evaluation [50/100]\n",
      "INFO:tensorflow:Evaluation [60/100]\n",
      "INFO:tensorflow:Evaluation [70/100]\n",
      "INFO:tensorflow:Evaluation [80/100]\n",
      "INFO:tensorflow:Evaluation [90/100]\n",
      "INFO:tensorflow:Evaluation [100/100]\n",
      "INFO:tensorflow:Finished evaluation at 2018-03-20-14:23:41\n",
      "INFO:tensorflow:Saving dict for global step 2949: accuracy = 0.73164064, global_step = 2949, loss = 0.20448864\n",
      "INFO:tensorflow:Calling model_fn.\n",
      "duh\n",
      "INFO:tensorflow:Done calling model_fn.\n",
      "INFO:tensorflow:Create CheckpointSaverHook.\n",
      "INFO:tensorflow:Graph was finalized.\n",
      "INFO:tensorflow:Restoring parameters from model/model.ckpt-2949\n",
      "INFO:tensorflow:Running local_init_op.\n",
      "INFO:tensorflow:Done running local_init_op.\n",
      "INFO:tensorflow:Saving checkpoints for 2950 into model/model.ckpt.\n",
      "INFO:tensorflow:loss = 0.113005266, step = 2950\n",
      "INFO:tensorflow:global_step/sec: 9.8321\n",
      "INFO:tensorflow:loss = 0.0835617, step = 3050 (10.175 sec)\n",
      "INFO:tensorflow:Saving checkpoints for 3134 into model/model.ckpt.\n",
      "INFO:tensorflow:Loss for final step: 0.09790808.\n",
      "INFO:tensorflow:Calling model_fn.\n",
      "duh\n",
      "INFO:tensorflow:Done calling model_fn.\n",
      "INFO:tensorflow:Starting evaluation at 2018-03-20-14:24:03\n",
      "INFO:tensorflow:Graph was finalized.\n",
      "INFO:tensorflow:Restoring parameters from model/model.ckpt-3134\n",
      "INFO:tensorflow:Running local_init_op.\n",
      "INFO:tensorflow:Done running local_init_op.\n",
      "INFO:tensorflow:Evaluation [10/100]\n",
      "INFO:tensorflow:Evaluation [20/100]\n",
      "INFO:tensorflow:Evaluation [30/100]\n",
      "INFO:tensorflow:Evaluation [40/100]\n",
      "INFO:tensorflow:Evaluation [50/100]\n",
      "INFO:tensorflow:Evaluation [60/100]\n",
      "INFO:tensorflow:Evaluation [70/100]\n",
      "INFO:tensorflow:Evaluation [80/100]\n",
      "INFO:tensorflow:Evaluation [90/100]\n",
      "INFO:tensorflow:Evaluation [100/100]\n",
      "INFO:tensorflow:Finished evaluation at 2018-03-20-14:24:07\n",
      "INFO:tensorflow:Saving dict for global step 3134: accuracy = 0.7503125, global_step = 3134, loss = 0.20223726\n",
      "INFO:tensorflow:Calling model_fn.\n",
      "duh\n",
      "INFO:tensorflow:Done calling model_fn.\n",
      "INFO:tensorflow:Create CheckpointSaverHook.\n",
      "INFO:tensorflow:Graph was finalized.\n",
      "INFO:tensorflow:Restoring parameters from model/model.ckpt-3134\n",
      "INFO:tensorflow:Running local_init_op.\n",
      "INFO:tensorflow:Done running local_init_op.\n",
      "INFO:tensorflow:Saving checkpoints for 3135 into model/model.ckpt.\n",
      "INFO:tensorflow:loss = 0.10818344, step = 3135\n",
      "INFO:tensorflow:global_step/sec: 9.86107\n",
      "INFO:tensorflow:loss = 0.087143876, step = 3235 (10.145 sec)\n",
      "INFO:tensorflow:Saving checkpoints for 3319 into model/model.ckpt.\n",
      "INFO:tensorflow:Loss for final step: 0.11288665.\n",
      "INFO:tensorflow:Calling model_fn.\n",
      "duh\n",
      "INFO:tensorflow:Done calling model_fn.\n",
      "INFO:tensorflow:Starting evaluation at 2018-03-20-14:24:29\n",
      "INFO:tensorflow:Graph was finalized.\n",
      "INFO:tensorflow:Restoring parameters from model/model.ckpt-3319\n",
      "INFO:tensorflow:Running local_init_op.\n",
      "INFO:tensorflow:Done running local_init_op.\n",
      "INFO:tensorflow:Evaluation [10/100]\n",
      "INFO:tensorflow:Evaluation [20/100]\n",
      "INFO:tensorflow:Evaluation [30/100]\n",
      "INFO:tensorflow:Evaluation [40/100]\n",
      "INFO:tensorflow:Evaluation [50/100]\n",
      "INFO:tensorflow:Evaluation [60/100]\n",
      "INFO:tensorflow:Evaluation [70/100]\n",
      "INFO:tensorflow:Evaluation [80/100]\n"
     ]
    },
    {
     "name": "stdout",
     "output_type": "stream",
     "text": [
      "INFO:tensorflow:Evaluation [90/100]\n",
      "INFO:tensorflow:Evaluation [100/100]\n",
      "INFO:tensorflow:Finished evaluation at 2018-03-20-14:24:33\n",
      "INFO:tensorflow:Saving dict for global step 3319: accuracy = 0.7386719, global_step = 3319, loss = 0.21307741\n",
      "INFO:tensorflow:Calling model_fn.\n",
      "duh\n",
      "INFO:tensorflow:Done calling model_fn.\n",
      "INFO:tensorflow:Create CheckpointSaverHook.\n",
      "INFO:tensorflow:Graph was finalized.\n",
      "INFO:tensorflow:Restoring parameters from model/model.ckpt-3319\n",
      "INFO:tensorflow:Running local_init_op.\n",
      "INFO:tensorflow:Done running local_init_op.\n",
      "INFO:tensorflow:Saving checkpoints for 3320 into model/model.ckpt.\n",
      "INFO:tensorflow:loss = 0.081034645, step = 3320\n",
      "INFO:tensorflow:global_step/sec: 9.80489\n",
      "INFO:tensorflow:loss = 0.076784216, step = 3420 (10.202 sec)\n",
      "INFO:tensorflow:Saving checkpoints for 3503 into model/model.ckpt.\n",
      "INFO:tensorflow:Loss for final step: 0.08874335.\n",
      "INFO:tensorflow:Calling model_fn.\n",
      "duh\n",
      "INFO:tensorflow:Done calling model_fn.\n",
      "INFO:tensorflow:Starting evaluation at 2018-03-20-14:24:55\n",
      "INFO:tensorflow:Graph was finalized.\n",
      "INFO:tensorflow:Restoring parameters from model/model.ckpt-3503\n",
      "INFO:tensorflow:Running local_init_op.\n",
      "INFO:tensorflow:Done running local_init_op.\n",
      "INFO:tensorflow:Evaluation [10/100]\n",
      "INFO:tensorflow:Evaluation [20/100]\n",
      "INFO:tensorflow:Evaluation [30/100]\n",
      "INFO:tensorflow:Evaluation [40/100]\n",
      "INFO:tensorflow:Evaluation [50/100]\n",
      "INFO:tensorflow:Evaluation [60/100]\n",
      "INFO:tensorflow:Evaluation [70/100]\n",
      "INFO:tensorflow:Evaluation [80/100]\n",
      "INFO:tensorflow:Evaluation [90/100]\n",
      "INFO:tensorflow:Evaluation [100/100]\n",
      "INFO:tensorflow:Finished evaluation at 2018-03-20-14:24:59\n",
      "INFO:tensorflow:Saving dict for global step 3503: accuracy = 0.755625, global_step = 3503, loss = 0.20169757\n",
      "INFO:tensorflow:Calling model_fn.\n",
      "duh\n",
      "INFO:tensorflow:Done calling model_fn.\n",
      "INFO:tensorflow:Create CheckpointSaverHook.\n",
      "INFO:tensorflow:Graph was finalized.\n",
      "INFO:tensorflow:Restoring parameters from model/model.ckpt-3503\n",
      "INFO:tensorflow:Running local_init_op.\n",
      "INFO:tensorflow:Done running local_init_op.\n",
      "INFO:tensorflow:Saving checkpoints for 3504 into model/model.ckpt.\n",
      "INFO:tensorflow:loss = 0.092968576, step = 3504\n",
      "INFO:tensorflow:global_step/sec: 9.81203\n",
      "INFO:tensorflow:loss = 0.069295175, step = 3604 (10.199 sec)\n",
      "INFO:tensorflow:Saving checkpoints for 3687 into model/model.ckpt.\n",
      "INFO:tensorflow:Loss for final step: 0.099522606.\n",
      "INFO:tensorflow:Calling model_fn.\n",
      "duh\n",
      "INFO:tensorflow:Done calling model_fn.\n",
      "INFO:tensorflow:Starting evaluation at 2018-03-20-14:25:21\n",
      "INFO:tensorflow:Graph was finalized.\n",
      "INFO:tensorflow:Restoring parameters from model/model.ckpt-3687\n",
      "INFO:tensorflow:Running local_init_op.\n",
      "INFO:tensorflow:Done running local_init_op.\n",
      "INFO:tensorflow:Evaluation [10/100]\n",
      "INFO:tensorflow:Evaluation [20/100]\n",
      "INFO:tensorflow:Evaluation [30/100]\n",
      "INFO:tensorflow:Evaluation [40/100]\n",
      "INFO:tensorflow:Evaluation [50/100]\n",
      "INFO:tensorflow:Evaluation [60/100]\n",
      "INFO:tensorflow:Evaluation [70/100]\n",
      "INFO:tensorflow:Evaluation [80/100]\n",
      "INFO:tensorflow:Evaluation [90/100]\n",
      "INFO:tensorflow:Evaluation [100/100]\n",
      "INFO:tensorflow:Finished evaluation at 2018-03-20-14:25:25\n",
      "INFO:tensorflow:Saving dict for global step 3687: accuracy = 0.74890625, global_step = 3687, loss = 0.2123268\n",
      "INFO:tensorflow:Calling model_fn.\n",
      "duh\n",
      "INFO:tensorflow:Done calling model_fn.\n",
      "INFO:tensorflow:Create CheckpointSaverHook.\n",
      "INFO:tensorflow:Graph was finalized.\n",
      "INFO:tensorflow:Restoring parameters from model/model.ckpt-3687\n",
      "INFO:tensorflow:Running local_init_op.\n",
      "INFO:tensorflow:Done running local_init_op.\n",
      "INFO:tensorflow:Saving checkpoints for 3688 into model/model.ckpt.\n",
      "INFO:tensorflow:loss = 0.075989, step = 3688\n",
      "INFO:tensorflow:global_step/sec: 9.77676\n",
      "INFO:tensorflow:loss = 0.089392245, step = 3788 (10.232 sec)\n",
      "INFO:tensorflow:Saving checkpoints for 3870 into model/model.ckpt.\n",
      "INFO:tensorflow:Loss for final step: 0.077912495.\n",
      "INFO:tensorflow:Calling model_fn.\n",
      "duh\n",
      "INFO:tensorflow:Done calling model_fn.\n",
      "INFO:tensorflow:Starting evaluation at 2018-03-20-14:25:47\n",
      "INFO:tensorflow:Graph was finalized.\n",
      "INFO:tensorflow:Restoring parameters from model/model.ckpt-3870\n",
      "INFO:tensorflow:Running local_init_op.\n",
      "INFO:tensorflow:Done running local_init_op.\n",
      "INFO:tensorflow:Evaluation [10/100]\n",
      "INFO:tensorflow:Evaluation [20/100]\n",
      "INFO:tensorflow:Evaluation [30/100]\n",
      "INFO:tensorflow:Evaluation [40/100]\n",
      "INFO:tensorflow:Evaluation [50/100]\n",
      "INFO:tensorflow:Evaluation [60/100]\n",
      "INFO:tensorflow:Evaluation [70/100]\n",
      "INFO:tensorflow:Evaluation [80/100]\n",
      "INFO:tensorflow:Evaluation [90/100]\n",
      "INFO:tensorflow:Evaluation [100/100]\n",
      "INFO:tensorflow:Finished evaluation at 2018-03-20-14:25:51\n",
      "INFO:tensorflow:Saving dict for global step 3870: accuracy = 0.7510156, global_step = 3870, loss = 0.20059298\n",
      "INFO:tensorflow:Calling model_fn.\n",
      "duh\n",
      "INFO:tensorflow:Done calling model_fn.\n",
      "INFO:tensorflow:Create CheckpointSaverHook.\n",
      "INFO:tensorflow:Graph was finalized.\n",
      "INFO:tensorflow:Restoring parameters from model/model.ckpt-3870\n",
      "INFO:tensorflow:Running local_init_op.\n",
      "INFO:tensorflow:Done running local_init_op.\n",
      "INFO:tensorflow:Saving checkpoints for 3871 into model/model.ckpt.\n",
      "INFO:tensorflow:loss = 0.08519751, step = 3871\n",
      "INFO:tensorflow:global_step/sec: 9.82764\n",
      "INFO:tensorflow:loss = 0.080547765, step = 3971 (10.177 sec)\n",
      "INFO:tensorflow:Saving checkpoints for 4053 into model/model.ckpt.\n",
      "INFO:tensorflow:Loss for final step: 0.08704739.\n",
      "INFO:tensorflow:Calling model_fn.\n",
      "duh\n",
      "INFO:tensorflow:Done calling model_fn.\n",
      "INFO:tensorflow:Starting evaluation at 2018-03-20-14:26:13\n",
      "INFO:tensorflow:Graph was finalized.\n",
      "INFO:tensorflow:Restoring parameters from model/model.ckpt-4053\n",
      "INFO:tensorflow:Running local_init_op.\n",
      "INFO:tensorflow:Done running local_init_op.\n",
      "INFO:tensorflow:Evaluation [10/100]\n",
      "INFO:tensorflow:Evaluation [20/100]\n",
      "INFO:tensorflow:Evaluation [30/100]\n",
      "INFO:tensorflow:Evaluation [40/100]\n",
      "INFO:tensorflow:Evaluation [50/100]\n",
      "INFO:tensorflow:Evaluation [60/100]\n",
      "INFO:tensorflow:Evaluation [70/100]\n",
      "INFO:tensorflow:Evaluation [80/100]\n",
      "INFO:tensorflow:Evaluation [90/100]\n",
      "INFO:tensorflow:Evaluation [100/100]\n",
      "INFO:tensorflow:Finished evaluation at 2018-03-20-14:26:17\n",
      "INFO:tensorflow:Saving dict for global step 4053: accuracy = 0.75804687, global_step = 4053, loss = 0.20248692\n",
      "INFO:tensorflow:Calling model_fn.\n",
      "duh\n",
      "INFO:tensorflow:Done calling model_fn.\n",
      "INFO:tensorflow:Create CheckpointSaverHook.\n",
      "INFO:tensorflow:Graph was finalized.\n",
      "INFO:tensorflow:Restoring parameters from model/model.ckpt-4053\n",
      "INFO:tensorflow:Running local_init_op.\n",
      "INFO:tensorflow:Done running local_init_op.\n",
      "INFO:tensorflow:Saving checkpoints for 4054 into model/model.ckpt.\n",
      "INFO:tensorflow:loss = 0.078610756, step = 4054\n",
      "INFO:tensorflow:global_step/sec: 9.80195\n",
      "INFO:tensorflow:loss = 0.079370104, step = 4154 (10.206 sec)\n",
      "INFO:tensorflow:Saving checkpoints for 4237 into model/model.ckpt.\n",
      "INFO:tensorflow:Loss for final step: 0.07190329.\n",
      "INFO:tensorflow:Calling model_fn.\n",
      "duh\n",
      "INFO:tensorflow:Done calling model_fn.\n",
      "INFO:tensorflow:Starting evaluation at 2018-03-20-14:26:39\n",
      "INFO:tensorflow:Graph was finalized.\n",
      "INFO:tensorflow:Restoring parameters from model/model.ckpt-4237\n",
      "INFO:tensorflow:Running local_init_op.\n",
      "INFO:tensorflow:Done running local_init_op.\n",
      "INFO:tensorflow:Evaluation [10/100]\n",
      "INFO:tensorflow:Evaluation [20/100]\n",
      "INFO:tensorflow:Evaluation [30/100]\n",
      "INFO:tensorflow:Evaluation [40/100]\n",
      "INFO:tensorflow:Evaluation [50/100]\n",
      "INFO:tensorflow:Evaluation [60/100]\n",
      "INFO:tensorflow:Evaluation [70/100]\n",
      "INFO:tensorflow:Evaluation [80/100]\n",
      "INFO:tensorflow:Evaluation [90/100]\n",
      "INFO:tensorflow:Evaluation [100/100]\n",
      "INFO:tensorflow:Finished evaluation at 2018-03-20-14:26:43\n",
      "INFO:tensorflow:Saving dict for global step 4237: accuracy = 0.75875, global_step = 4237, loss = 0.20033012\n",
      "INFO:tensorflow:Calling model_fn.\n",
      "duh\n",
      "INFO:tensorflow:Done calling model_fn.\n",
      "INFO:tensorflow:Create CheckpointSaverHook.\n",
      "INFO:tensorflow:Graph was finalized.\n",
      "INFO:tensorflow:Restoring parameters from model/model.ckpt-4237\n",
      "INFO:tensorflow:Running local_init_op.\n",
      "INFO:tensorflow:Done running local_init_op.\n",
      "INFO:tensorflow:Saving checkpoints for 4238 into model/model.ckpt.\n",
      "INFO:tensorflow:loss = 0.0935475, step = 4238\n",
      "INFO:tensorflow:global_step/sec: 9.82266\n",
      "INFO:tensorflow:loss = 0.08117964, step = 4338 (10.183 sec)\n",
      "INFO:tensorflow:Saving checkpoints for 4422 into model/model.ckpt.\n",
      "INFO:tensorflow:Loss for final step: 0.074027844.\n",
      "INFO:tensorflow:Calling model_fn.\n",
      "duh\n",
      "INFO:tensorflow:Done calling model_fn.\n",
      "INFO:tensorflow:Starting evaluation at 2018-03-20-14:27:05\n",
      "INFO:tensorflow:Graph was finalized.\n",
      "INFO:tensorflow:Restoring parameters from model/model.ckpt-4422\n",
      "INFO:tensorflow:Running local_init_op.\n",
      "INFO:tensorflow:Done running local_init_op.\n",
      "INFO:tensorflow:Evaluation [10/100]\n",
      "INFO:tensorflow:Evaluation [20/100]\n",
      "INFO:tensorflow:Evaluation [30/100]\n",
      "INFO:tensorflow:Evaluation [40/100]\n",
      "INFO:tensorflow:Evaluation [50/100]\n",
      "INFO:tensorflow:Evaluation [60/100]\n",
      "INFO:tensorflow:Evaluation [70/100]\n",
      "INFO:tensorflow:Evaluation [80/100]\n"
     ]
    },
    {
     "name": "stdout",
     "output_type": "stream",
     "text": [
      "INFO:tensorflow:Evaluation [90/100]\n",
      "INFO:tensorflow:Evaluation [100/100]\n",
      "INFO:tensorflow:Finished evaluation at 2018-03-20-14:27:09\n",
      "INFO:tensorflow:Saving dict for global step 4422: accuracy = 0.75039065, global_step = 4422, loss = 0.1971636\n",
      "INFO:tensorflow:Calling model_fn.\n",
      "duh\n",
      "INFO:tensorflow:Done calling model_fn.\n",
      "INFO:tensorflow:Create CheckpointSaverHook.\n",
      "INFO:tensorflow:Graph was finalized.\n",
      "INFO:tensorflow:Restoring parameters from model/model.ckpt-4422\n",
      "INFO:tensorflow:Running local_init_op.\n",
      "INFO:tensorflow:Done running local_init_op.\n",
      "INFO:tensorflow:Saving checkpoints for 4423 into model/model.ckpt.\n",
      "INFO:tensorflow:loss = 0.07892527, step = 4423\n",
      "INFO:tensorflow:global_step/sec: 9.81198\n",
      "INFO:tensorflow:loss = 0.07489807, step = 4523 (10.195 sec)\n",
      "INFO:tensorflow:Saving checkpoints for 4606 into model/model.ckpt.\n",
      "INFO:tensorflow:Loss for final step: 0.07826562.\n",
      "INFO:tensorflow:Calling model_fn.\n",
      "duh\n",
      "INFO:tensorflow:Done calling model_fn.\n",
      "INFO:tensorflow:Starting evaluation at 2018-03-20-14:27:31\n",
      "INFO:tensorflow:Graph was finalized.\n",
      "INFO:tensorflow:Restoring parameters from model/model.ckpt-4606\n",
      "INFO:tensorflow:Running local_init_op.\n",
      "INFO:tensorflow:Done running local_init_op.\n",
      "INFO:tensorflow:Evaluation [10/100]\n",
      "INFO:tensorflow:Evaluation [20/100]\n",
      "INFO:tensorflow:Evaluation [30/100]\n",
      "INFO:tensorflow:Evaluation [40/100]\n",
      "INFO:tensorflow:Evaluation [50/100]\n",
      "INFO:tensorflow:Evaluation [60/100]\n",
      "INFO:tensorflow:Evaluation [70/100]\n",
      "INFO:tensorflow:Evaluation [80/100]\n",
      "INFO:tensorflow:Evaluation [90/100]\n",
      "INFO:tensorflow:Evaluation [100/100]\n",
      "INFO:tensorflow:Finished evaluation at 2018-03-20-14:27:35\n",
      "INFO:tensorflow:Saving dict for global step 4606: accuracy = 0.74476564, global_step = 4606, loss = 0.20633645\n",
      "INFO:tensorflow:Calling model_fn.\n",
      "duh\n",
      "INFO:tensorflow:Done calling model_fn.\n",
      "INFO:tensorflow:Create CheckpointSaverHook.\n",
      "INFO:tensorflow:Graph was finalized.\n",
      "INFO:tensorflow:Restoring parameters from model/model.ckpt-4606\n",
      "INFO:tensorflow:Running local_init_op.\n",
      "INFO:tensorflow:Done running local_init_op.\n",
      "INFO:tensorflow:Saving checkpoints for 4607 into model/model.ckpt.\n",
      "INFO:tensorflow:loss = 0.084466025, step = 4607\n",
      "INFO:tensorflow:global_step/sec: 9.81244\n",
      "INFO:tensorflow:loss = 0.07445807, step = 4707 (10.197 sec)\n",
      "INFO:tensorflow:Saving checkpoints for 4790 into model/model.ckpt.\n",
      "INFO:tensorflow:Loss for final step: 0.11487099.\n",
      "INFO:tensorflow:Calling model_fn.\n",
      "duh\n",
      "INFO:tensorflow:Done calling model_fn.\n",
      "INFO:tensorflow:Starting evaluation at 2018-03-20-14:27:57\n",
      "INFO:tensorflow:Graph was finalized.\n",
      "INFO:tensorflow:Restoring parameters from model/model.ckpt-4790\n",
      "INFO:tensorflow:Running local_init_op.\n",
      "INFO:tensorflow:Done running local_init_op.\n",
      "INFO:tensorflow:Evaluation [10/100]\n",
      "INFO:tensorflow:Evaluation [20/100]\n",
      "INFO:tensorflow:Evaluation [30/100]\n",
      "INFO:tensorflow:Evaluation [40/100]\n",
      "INFO:tensorflow:Evaluation [50/100]\n",
      "INFO:tensorflow:Evaluation [60/100]\n",
      "INFO:tensorflow:Evaluation [70/100]\n",
      "INFO:tensorflow:Evaluation [80/100]\n",
      "INFO:tensorflow:Evaluation [90/100]\n",
      "INFO:tensorflow:Evaluation [100/100]\n",
      "INFO:tensorflow:Finished evaluation at 2018-03-20-14:28:01\n",
      "INFO:tensorflow:Saving dict for global step 4790: accuracy = 0.7433594, global_step = 4790, loss = 0.20840108\n",
      "INFO:tensorflow:Calling model_fn.\n",
      "duh\n",
      "INFO:tensorflow:Done calling model_fn.\n",
      "INFO:tensorflow:Create CheckpointSaverHook.\n",
      "INFO:tensorflow:Graph was finalized.\n",
      "INFO:tensorflow:Restoring parameters from model/model.ckpt-4790\n",
      "INFO:tensorflow:Running local_init_op.\n",
      "INFO:tensorflow:Done running local_init_op.\n",
      "INFO:tensorflow:Saving checkpoints for 4791 into model/model.ckpt.\n",
      "INFO:tensorflow:loss = 0.09115894, step = 4791\n",
      "INFO:tensorflow:global_step/sec: 9.83466\n",
      "INFO:tensorflow:loss = 0.08274574, step = 4891 (10.172 sec)\n",
      "INFO:tensorflow:Saving checkpoints for 4972 into model/model.ckpt.\n",
      "INFO:tensorflow:Loss for final step: 0.090079956.\n",
      "INFO:tensorflow:Calling model_fn.\n",
      "duh\n",
      "INFO:tensorflow:Done calling model_fn.\n",
      "INFO:tensorflow:Starting evaluation at 2018-03-20-14:28:23\n",
      "INFO:tensorflow:Graph was finalized.\n",
      "INFO:tensorflow:Restoring parameters from model/model.ckpt-4972\n",
      "INFO:tensorflow:Running local_init_op.\n",
      "INFO:tensorflow:Done running local_init_op.\n",
      "INFO:tensorflow:Evaluation [10/100]\n",
      "INFO:tensorflow:Evaluation [20/100]\n",
      "INFO:tensorflow:Evaluation [30/100]\n",
      "INFO:tensorflow:Evaluation [40/100]\n",
      "INFO:tensorflow:Evaluation [50/100]\n",
      "INFO:tensorflow:Evaluation [60/100]\n",
      "INFO:tensorflow:Evaluation [70/100]\n",
      "INFO:tensorflow:Evaluation [80/100]\n",
      "INFO:tensorflow:Evaluation [90/100]\n",
      "INFO:tensorflow:Evaluation [100/100]\n",
      "INFO:tensorflow:Finished evaluation at 2018-03-20-14:28:27\n",
      "INFO:tensorflow:Saving dict for global step 4972: accuracy = 0.748125, global_step = 4972, loss = 0.21211421\n",
      "INFO:tensorflow:Calling model_fn.\n",
      "duh\n",
      "INFO:tensorflow:Done calling model_fn.\n",
      "INFO:tensorflow:Create CheckpointSaverHook.\n",
      "INFO:tensorflow:Graph was finalized.\n",
      "INFO:tensorflow:Restoring parameters from model/model.ckpt-4972\n",
      "INFO:tensorflow:Running local_init_op.\n",
      "INFO:tensorflow:Done running local_init_op.\n",
      "INFO:tensorflow:Saving checkpoints for 4973 into model/model.ckpt.\n",
      "INFO:tensorflow:loss = 0.089072004, step = 4973\n",
      "INFO:tensorflow:Saving checkpoints for 5000 into model/model.ckpt.\n",
      "INFO:tensorflow:Loss for final step: 0.09245316.\n",
      "INFO:tensorflow:Calling model_fn.\n",
      "duh\n",
      "INFO:tensorflow:Done calling model_fn.\n",
      "INFO:tensorflow:Starting evaluation at 2018-03-20-14:28:33\n",
      "INFO:tensorflow:Graph was finalized.\n",
      "INFO:tensorflow:Restoring parameters from model/model.ckpt-5000\n",
      "INFO:tensorflow:Running local_init_op.\n",
      "INFO:tensorflow:Done running local_init_op.\n",
      "INFO:tensorflow:Evaluation [10/100]\n",
      "INFO:tensorflow:Evaluation [20/100]\n",
      "INFO:tensorflow:Evaluation [30/100]\n",
      "INFO:tensorflow:Evaluation [40/100]\n",
      "INFO:tensorflow:Evaluation [50/100]\n",
      "INFO:tensorflow:Evaluation [60/100]\n",
      "INFO:tensorflow:Evaluation [70/100]\n",
      "INFO:tensorflow:Evaluation [80/100]\n",
      "INFO:tensorflow:Evaluation [90/100]\n",
      "INFO:tensorflow:Evaluation [100/100]\n",
      "INFO:tensorflow:Finished evaluation at 2018-03-20-14:28:37\n",
      "INFO:tensorflow:Saving dict for global step 5000: accuracy = 0.76, global_step = 5000, loss = 0.2005937\n"
     ]
    }
   ],
   "source": [
    "# Define the input function for training.\n",
    "train_input_fn = tf.estimator.inputs.numpy_input_fn(\n",
    "    x={'images': x_train}, y=y_train,\n",
    "    batch_size=batch_size, num_epochs=None, shuffle=True)\n",
    "\n",
    "# Define the input function for validation during training.\n",
    "valid_input_fn = tf.estimator.inputs.numpy_input_fn(\n",
    "    x={'images': x_valid}, y=y_valid,\n",
    "    batch_size=batch_size, num_epochs=None, shuffle=False)\n",
    "\n",
    "# Specify training operations.\n",
    "train_spec = tf.estimator.TrainSpec(\n",
    "    input_fn = train_input_fn,\n",
    "    max_steps = max_steps\n",
    ")\n",
    "\n",
    "# Specify evaluation operations.\n",
    "eval_spec = tf.estimator.EvalSpec(\n",
    "    input_fn = valid_input_fn,\n",
    "    throttle_secs=20,\n",
    "    start_delay_secs=20,\n",
    ")\n",
    "\n",
    "# Train the Model and evaluate periodically\n",
    "tf.estimator.train_and_evaluate(model, train_spec, eval_spec)"
   ]
  },
  {
   "cell_type": "markdown",
   "metadata": {
    "colab_type": "text",
    "id": "58wFYWnAqF-A"
   },
   "source": [
    "## Evaluation"
   ]
  },
  {
   "cell_type": "code",
   "execution_count": 202,
   "metadata": {
    "colab": {
     "autoexec": {
      "startup": false,
      "wait_interval": 0
     },
     "base_uri": "https://localhost:8080/",
     "height": 208,
     "output_extras": [
      {
       "item_id": 6
      },
      {
       "item_id": 7
      }
     ]
    },
    "colab_type": "code",
    "executionInfo": {
     "elapsed": 2828,
     "status": "ok",
     "timestamp": 1521556149903,
     "user": {
      "displayName": "Lewe",
      "photoUrl": "https://lh3.googleusercontent.com/a/default-user=s128",
      "userId": "102436301071476302563"
     },
     "user_tz": -60
    },
    "id": "y9tkAgK_n_YJ",
    "outputId": "fc6e775e-f7bf-4e20-d264-018dda973bc9"
   },
   "outputs": [
    {
     "name": "stdout",
     "output_type": "stream",
     "text": [
      "INFO:tensorflow:Calling model_fn.\n",
      "duh\n",
      "INFO:tensorflow:Done calling model_fn.\n",
      "INFO:tensorflow:Starting evaluation at 2018-03-20-14:29:08\n",
      "INFO:tensorflow:Graph was finalized.\n",
      "INFO:tensorflow:Restoring parameters from model/model.ckpt-5000\n",
      "INFO:tensorflow:Running local_init_op.\n",
      "INFO:tensorflow:Done running local_init_op.\n",
      "INFO:tensorflow:Finished evaluation at 2018-03-20-14:29:09\n",
      "INFO:tensorflow:Saving dict for global step 5000: accuracy = 0.75215393, global_step = 5000, loss = 0.20501716\n"
     ]
    },
    {
     "data": {
      "text/plain": [
       "{'accuracy': 0.75215393, 'global_step': 5000, 'loss': 0.20501716}"
      ]
     },
     "execution_count": 202,
     "metadata": {
      "tags": []
     },
     "output_type": "execute_result"
    }
   ],
   "source": [
    "# Define the input function for evaluating\n",
    "input_fn = tf.estimator.inputs.numpy_input_fn(\n",
    "    x={'images': x_test}, y=y_test,\n",
    "    batch_size=batch_size, shuffle=False)\n",
    "# Use the Estimator 'evaluate' method\n",
    "model.evaluate(input_fn)"
   ]
  },
  {
   "cell_type": "markdown",
   "metadata": {
    "colab_type": "text",
    "id": "gLipOePT5Rz9"
   },
   "source": [
    "# Exporting as tf.SavedModel"
   ]
  },
  {
   "cell_type": "code",
   "execution_count": 234,
   "metadata": {
    "colab": {
     "autoexec": {
      "startup": false,
      "wait_interval": 0
     },
     "base_uri": "https://localhost:8080/",
     "height": 191,
     "output_extras": [
      {
       "item_id": 2
      },
      {
       "item_id": 3
      }
     ]
    },
    "colab_type": "code",
    "executionInfo": {
     "elapsed": 810,
     "status": "ok",
     "timestamp": 1521557551526,
     "user": {
      "displayName": "Lewe",
      "photoUrl": "https://lh3.googleusercontent.com/a/default-user=s128",
      "userId": "102436301071476302563"
     },
     "user_tz": -60
    },
    "id": "0sCl5EPQpsfG",
    "outputId": "ec75bfc8-2cda-4b34-bd4d-9a22728fa84d"
   },
   "outputs": [
    {
     "name": "stdout",
     "output_type": "stream",
     "text": [
      "INFO:tensorflow:Calling model_fn.\n",
      "INFO:tensorflow:Done calling model_fn.\n",
      "INFO:tensorflow:Signatures INCLUDED in export for Classify: None\n",
      "INFO:tensorflow:Signatures INCLUDED in export for Regress: None\n",
      "INFO:tensorflow:Signatures INCLUDED in export for Predict: ['classes', 'serving_default']\n",
      "INFO:tensorflow:Restoring parameters from model/model.ckpt-5000\n",
      "INFO:tensorflow:Assets added to graph.\n",
      "INFO:tensorflow:No assets to write.\n",
      "INFO:tensorflow:SavedModel written to: b\"saved_models/ferplus/temp-b'1521557551'/saved_model.pbtxt\"\n"
     ]
    },
    {
     "data": {
      "text/plain": [
       "b'saved_models/ferplus/1521557551'"
      ]
     },
     "execution_count": 234,
     "metadata": {
      "tags": []
     },
     "output_type": "execute_result"
    }
   ],
   "source": [
    "# Export the model as a SavedModel for production use\n",
    "feature_spec = {'images': tf.placeholder(dtype=tf.float32, shape=[None, img_size * img_size])}\n",
    "serving_input_fn = tf.estimator.export.build_raw_serving_input_receiver_fn(feature_spec)\n",
    "\n",
    "savedmodel_path_bytes = model.export_savedmodel(\n",
    "    export_dir_base='saved_models/ferplus',\n",
    "    serving_input_receiver_fn=serving_input_fn,\n",
    "    as_text=True)"
   ]
  },
  {
   "cell_type": "code",
   "execution_count": 238,
   "metadata": {
    "colab": {
     "autoexec": {
      "startup": false,
      "wait_interval": 0
     },
     "base_uri": "https://localhost:8080/",
     "height": 34,
     "output_extras": [
      {
       "item_id": 1
      }
     ]
    },
    "colab_type": "code",
    "executionInfo": {
     "elapsed": 491,
     "status": "ok",
     "timestamp": 1521557628860,
     "user": {
      "displayName": "Lewe",
      "photoUrl": "https://lh3.googleusercontent.com/a/default-user=s128",
      "userId": "102436301071476302563"
     },
     "user_tz": -60
    },
    "id": "_PkK0lJ45duR",
    "outputId": "42f9ed22-dc9c-4bb8-eccb-81e5debcbe7f"
   },
   "outputs": [
    {
     "data": {
      "text/plain": [
       "'saved_models/ferplus/1521557551'"
      ]
     },
     "execution_count": 238,
     "metadata": {
      "tags": []
     },
     "output_type": "execute_result"
    }
   ],
   "source": []
  },
  {
   "cell_type": "markdown",
   "metadata": {
    "colab_type": "text",
    "id": "R8JWr_9m9BWJ"
   },
   "source": [
    "## Download SavedModel .zip-File"
   ]
  },
  {
   "cell_type": "code",
   "execution_count": 0,
   "metadata": {
    "colab": {
     "autoexec": {
      "startup": false,
      "wait_interval": 0
     }
    },
    "colab_type": "code",
    "collapsed": true,
    "id": "YRx4JIyB3wZk"
   },
   "outputs": [],
   "source": [
    "import os\n",
    "import zipfile\n",
    "\n",
    "model_timestamp = '1521556168'\n",
    "model_path = savedmodel_path_bytes.decode(\"utf-8\") # TODO: this\n",
    "\n",
    "\n",
    "def zipdir(path, ziph):\n",
    "    # ziph is zipfile handle\n",
    "    for root, dirs, files in os.walk(path):\n",
    "        for file in files:\n",
    "            ziph.write(os.path.join(root, file))\n",
    "\n",
    "\n",
    "zipf = zipfile.ZipFile(model_timestamp + '.zip', 'w', zipfile.ZIP_DEFLATED)\n",
    "zipdir('saved_models/ferplus/' + model_timestamp, zipf)\n",
    "zipf.close()\n",
    "    "
   ]
  },
  {
   "cell_type": "code",
   "execution_count": 0,
   "metadata": {
    "colab": {
     "autoexec": {
      "startup": false,
      "wait_interval": 0
     }
    },
    "colab_type": "code",
    "collapsed": true,
    "id": "v3Ptnvix6ekm"
   },
   "outputs": [],
   "source": [
    "from google.colab import files\n",
    "\n",
    "files.download(model_timestamp + '.zip')"
   ]
  }
 ],
 "metadata": {
  "accelerator": "GPU",
  "colab": {
   "collapsed_sections": [],
   "default_view": {},
   "name": "ferplus-colab.ipynb",
   "provenance": [],
   "version": "0.3.2",
   "views": {}
  },
  "kernelspec": {
   "display_name": "Python 3",
   "language": "python",
   "name": "python3"
  },
  "language_info": {
   "codemirror_mode": {
    "name": "ipython",
    "version": 3
   },
   "file_extension": ".py",
   "mimetype": "text/x-python",
   "name": "python",
   "nbconvert_exporter": "python",
   "pygments_lexer": "ipython3",
   "version": "3.6.3"
  }
 },
 "nbformat": 4,
 "nbformat_minor": 1
}
