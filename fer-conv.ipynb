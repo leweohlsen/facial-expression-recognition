{
 "cells": [
  {
   "cell_type": "markdown",
   "metadata": {},
   "source": [
    "# Facial Expression Recognition\n",
    "In this approach, we will setup a convolutional neural network to aim for an accuracy > 50%."
   ]
  },
  {
   "cell_type": "code",
   "execution_count": 1,
   "metadata": {
    "collapsed": true
   },
   "outputs": [],
   "source": [
    "%matplotlib inline\n",
    "from random import randint\n",
    "import csv\n",
    "import matplotlib.pyplot as plt\n",
    "from sklearn.metrics import confusion_matrix\n",
    "import tensorflow as tf\n",
    "import numpy as np"
   ]
  },
  {
   "cell_type": "code",
   "execution_count": 2,
   "metadata": {
    "collapsed": true
   },
   "outputs": [],
   "source": [
    "session = tf.Session()\n",
    "writer = tf.summary.FileWriter('logs/graph', session.graph)"
   ]
  },
  {
   "cell_type": "markdown",
   "metadata": {},
   "source": [
    "### Network and Training Parameters"
   ]
  },
  {
   "cell_type": "code",
   "execution_count": 3,
   "metadata": {
    "collapsed": true
   },
   "outputs": [],
   "source": [
    "# images are 48x48 pixels\n",
    "img_size = 48\n",
    "img_size_flat = img_size * img_size\n",
    "img_shape = (img_size, img_size)\n",
    "num_classes = 7\n",
    "class_labels = ['Angry', 'Disgust', 'Fear', 'Happy', 'Sad', 'Surprise', 'Neutral']\n",
    "\n",
    "# probability to drop a unit (prevent overfitting)\n",
    "dropout = 0.25\n",
    "\n",
    "# training parameters\n",
    "learning_rate = 0.001\n",
    "num_steps = 6000\n",
    "batch_size = 128"
   ]
  },
  {
   "cell_type": "markdown",
   "metadata": {},
   "source": [
    "### Read CSV"
   ]
  },
  {
   "cell_type": "code",
   "execution_count": 4,
   "metadata": {
    "collapsed": true
   },
   "outputs": [],
   "source": [
    "# Feature Vectors (0-255)\n",
    "imgs_train_byte = []\n",
    "imgs_test_byte = []\n",
    "\n",
    "# Labels (0-6)\n",
    "labels_train_class = []\n",
    "labels_test_class = []\n",
    "\n",
    "\n",
    "with open('fer2013.csv') as csvfile:\n",
    "    readCSV = csv.reader(csvfile, delimiter=',')\n",
    "    # skip CSV header\n",
    "    next(readCSV)\n",
    "    for row in readCSV:\n",
    "        if row[2] == 'Training':\n",
    "            # cast pixels to int\n",
    "            pixels_train = [float(x) for x in row[1].split(' ')]\n",
    "            imgs_train_byte.append(np.array(pixels_train))\n",
    "            labels_train_class.append(int(row[0]))\n",
    "        elif row[2] == 'PrivateTest':\n",
    "            pixels_test = [float(x) for x in row[1].split(' ')]\n",
    "            imgs_test_byte.append(np.array(pixels_test))\n",
    "            labels_test_class.append(int(row[0]))"
   ]
  },
  {
   "cell_type": "markdown",
   "metadata": {},
   "source": [
    "### Wrapping up the dataset"
   ]
  },
  {
   "cell_type": "code",
   "execution_count": 5,
   "metadata": {
    "collapsed": true
   },
   "outputs": [],
   "source": [
    "# cast to correct type and wrap into np arrays\n",
    "imgs_train_byte = np.array(imgs_train_byte, dtype=np.float32)\n",
    "imgs_test_byte = np.array(imgs_test_byte, dtype=np.float32)\n",
    "labels_train_class = np.array(labels_train_class, dtype=np.float32)\n",
    "labels_test_class = np.array(labels_test_class, dtype=np.float32)\n",
    "# normalize the pixel intensitys\n",
    "imgs_train = np.divide(imgs_train_byte, 255)\n",
    "imgs_test = np.divide(imgs_test_byte, 255)"
   ]
  },
  {
   "cell_type": "markdown",
   "metadata": {},
   "source": [
    "### Bootstrapping the Network"
   ]
  },
  {
   "cell_type": "code",
   "execution_count": 6,
   "metadata": {
    "collapsed": true
   },
   "outputs": [],
   "source": [
    "# Create the neural network\n",
    "def conv_net(x_dict, n_classes, dropout, reuse, is_training):\n",
    "    \n",
    "    # Define a scope for reusing the variables\n",
    "    with tf.variable_scope('ConvNet', reuse=reuse):\n",
    "        # TF Estimator input is a dict, in case of multiple inputs\n",
    "        x = x_dict['images']\n",
    "\n",
    "        # The data input is a 1-D vector of 2304 features (48*48 pixels)\n",
    "        # Reshape to match picture format [Height x Width x Channel]\n",
    "        # Tensor input become 4-D: [Batch Size, Height, Width, Channel]\n",
    "        x = tf.reshape(x, shape=[-1, img_size, img_size, 1])\n",
    "\n",
    "        # Convolution Layer with 32 filters and a kernel size of 5\n",
    "        conv1 = tf.layers.conv2d(x, 32, 5, activation=tf.nn.relu)\n",
    "        # Max Pooling (down-sampling) with strides of 2 and kernel size of 2\n",
    "        conv1 = tf.layers.max_pooling2d(conv1, 2, 2)\n",
    "\n",
    "        # Convolution Layer with 64 filters and a kernel size of 3\n",
    "        conv2 = tf.layers.conv2d(conv1, 64, 3, activation=tf.nn.relu)\n",
    "        # Max Pooling (down-sampling) with strides of 2 and kernel size of 2\n",
    "        conv2 = tf.layers.max_pooling2d(conv2, 2, 2)\n",
    "        \n",
    "        # Convolution Layer with 128 filters and a kernel size of 3\n",
    "        conv3 = tf.layers.conv2d(conv2, 128, 3, activation=tf.nn.relu)\n",
    "        # Max Pooling (down-sampling) with strides of 2 and kernel size of 2\n",
    "        conv3 = tf.layers.max_pooling2d(conv3, 2, 2)\n",
    "\n",
    "        # Flatten the data to a 1-D vector for the fully connected layer\n",
    "        fc1 = tf.contrib.layers.flatten(conv3)\n",
    "\n",
    "        # Fully connected layer (in tf contrib folder for now)\n",
    "        fc1 = tf.layers.dense(fc1, 1024)\n",
    "        # Apply Dropout (if is_training is False, dropout is not applied)\n",
    "        fc1 = tf.layers.dropout(fc1, rate=dropout, training=is_training)\n",
    "\n",
    "        # Output layer, class prediction\n",
    "        out = tf.layers.dense(fc1, n_classes)\n",
    "\n",
    "    return out"
   ]
  },
  {
   "cell_type": "markdown",
   "metadata": {},
   "source": [
    "### Defining the model using the Estimator API"
   ]
  },
  {
   "cell_type": "code",
   "execution_count": 7,
   "metadata": {
    "collapsed": true
   },
   "outputs": [],
   "source": [
    "# Define the model function (following TF Estimator Template)\n",
    "def model_fn(features, labels, mode):\n",
    "    \n",
    "    # Build the neural network\n",
    "    # Because Dropout have different behavior at training and prediction time, we\n",
    "    # need to create 2 distinct computation graphs that still share the same weights.\n",
    "    logits_train = conv_net(features, num_classes, dropout, reuse=False, is_training=True)\n",
    "    logits_test = conv_net(features, num_classes, dropout, reuse=True, is_training=False)\n",
    "    \n",
    "    # Predictions\n",
    "    pred_classes = tf.argmax(logits_test, axis=1)\n",
    "    pred_probas = tf.nn.softmax(logits_test)\n",
    "    \n",
    "    # If prediction mode, early return\n",
    "    if mode == tf.estimator.ModeKeys.PREDICT:\n",
    "        return tf.estimator.EstimatorSpec(mode, predictions=pred_classes) \n",
    "        \n",
    "    # Define loss and optimizer\n",
    "    loss_op = tf.reduce_mean(tf.nn.sparse_softmax_cross_entropy_with_logits(\n",
    "        logits=logits_train, labels=tf.cast(labels, dtype=tf.int32)))\n",
    "    optimizer = tf.train.AdamOptimizer(learning_rate=learning_rate)\n",
    "    train_op = optimizer.minimize(loss_op, global_step=tf.train.get_global_step())\n",
    "    \n",
    "    # Evaluate the accuracy of the model\n",
    "    acc_op = tf.metrics.accuracy(labels=labels, predictions=pred_classes)\n",
    "    \n",
    "    # TF Estimators requires to return a EstimatorSpec, that specify\n",
    "    # the different ops for training, evaluating, ...\n",
    "    estim_specs = tf.estimator.EstimatorSpec(\n",
    "      mode=mode,\n",
    "      predictions=pred_classes,\n",
    "      loss=loss_op,\n",
    "      train_op=train_op,\n",
    "      eval_metric_ops={'accuracy': acc_op})\n",
    "\n",
    "    return estim_specs"
   ]
  },
  {
   "cell_type": "code",
   "execution_count": 8,
   "metadata": {},
   "outputs": [
    {
     "name": "stdout",
     "output_type": "stream",
     "text": [
      "INFO:tensorflow:Using default config.\n",
      "INFO:tensorflow:Using config: {'_model_dir': './model', '_tf_random_seed': 1, '_save_summary_steps': 100, '_save_checkpoints_secs': 600, '_save_checkpoints_steps': None, '_session_config': None, '_keep_checkpoint_max': 5, '_keep_checkpoint_every_n_hours': 10000, '_log_step_count_steps': 100}\n"
     ]
    }
   ],
   "source": [
    "# Build the Estimator\n",
    "model = tf.estimator.Estimator(model_fn=model_fn, model_dir='./model')"
   ]
  },
  {
   "cell_type": "markdown",
   "metadata": {},
   "source": [
    "### Training the model"
   ]
  },
  {
   "cell_type": "code",
   "execution_count": 25,
   "metadata": {},
   "outputs": [
    {
     "ename": "TypeError",
     "evalue": "write() argument must be str, not numpy.ndarray",
     "output_type": "error",
     "traceback": [
      "\u001b[0;31m---------------------------------------------------------------------------\u001b[0m",
      "\u001b[0;31mTypeError\u001b[0m                                 Traceback (most recent call last)",
      "\u001b[0;32m<ipython-input-25-2f23082363b8>\u001b[0m in \u001b[0;36m<module>\u001b[0;34m()\u001b[0m\n\u001b[1;32m      1\u001b[0m \u001b[0mf\u001b[0m \u001b[0;34m=\u001b[0m \u001b[0mopen\u001b[0m\u001b[0;34m(\u001b[0m\u001b[0;34m\"test.txt\"\u001b[0m\u001b[0;34m,\u001b[0m\u001b[0;34m\"w\"\u001b[0m\u001b[0;34m)\u001b[0m\u001b[0;34m\u001b[0m\u001b[0m\n\u001b[0;32m----> 2\u001b[0;31m \u001b[0mf\u001b[0m\u001b[0;34m.\u001b[0m\u001b[0mwrite\u001b[0m\u001b[0;34m(\u001b[0m\u001b[0mimgs_train\u001b[0m\u001b[0;34m[\u001b[0m\u001b[0;36m243\u001b[0m\u001b[0;34m]\u001b[0m\u001b[0;34m)\u001b[0m\u001b[0;34m\u001b[0m\u001b[0m\n\u001b[0m\u001b[1;32m      3\u001b[0m \u001b[0mf\u001b[0m\u001b[0;34m.\u001b[0m\u001b[0mclose\u001b[0m\u001b[0;34m(\u001b[0m\u001b[0;34m)\u001b[0m\u001b[0;34m\u001b[0m\u001b[0m\n",
      "\u001b[0;31mTypeError\u001b[0m: write() argument must be str, not numpy.ndarray"
     ]
    }
   ],
   "source": [
    "f = open(\"test.txt\",\"w\") \n",
    "f.write(imgs_train[243])\n",
    "f.close()"
   ]
  },
  {
   "cell_type": "code",
   "execution_count": 9,
   "metadata": {},
   "outputs": [
    {
     "name": "stdout",
     "output_type": "stream",
     "text": [
      "INFO:tensorflow:Create CheckpointSaverHook.\n",
      "INFO:tensorflow:Saving checkpoints for 1 into ./model/model.ckpt.\n",
      "INFO:tensorflow:loss = 1.94394, step = 1\n",
      "INFO:tensorflow:global_step/sec: 1.89395\n",
      "INFO:tensorflow:loss = 1.68552, step = 101 (52.801 sec)\n",
      "INFO:tensorflow:global_step/sec: 1.75434\n",
      "INFO:tensorflow:loss = 1.62461, step = 201 (57.002 sec)\n",
      "INFO:tensorflow:global_step/sec: 1.55893\n",
      "INFO:tensorflow:loss = 1.38268, step = 301 (64.147 sec)\n",
      "INFO:tensorflow:global_step/sec: 1.53913\n",
      "INFO:tensorflow:loss = 1.46083, step = 401 (64.971 sec)\n",
      "INFO:tensorflow:global_step/sec: 1.6434\n",
      "INFO:tensorflow:loss = 1.26303, step = 501 (60.850 sec)\n",
      "INFO:tensorflow:global_step/sec: 2.06608\n",
      "INFO:tensorflow:loss = 1.32979, step = 601 (48.401 sec)\n",
      "INFO:tensorflow:global_step/sec: 2.0556\n",
      "INFO:tensorflow:loss = 1.2124, step = 701 (48.647 sec)\n",
      "INFO:tensorflow:global_step/sec: 2.0293\n",
      "INFO:tensorflow:loss = 1.24572, step = 801 (49.278 sec)\n",
      "INFO:tensorflow:global_step/sec: 1.96754\n",
      "INFO:tensorflow:loss = 1.28423, step = 901 (50.825 sec)\n",
      "INFO:tensorflow:global_step/sec: 2.02451\n",
      "INFO:tensorflow:loss = 1.33821, step = 1001 (49.395 sec)\n",
      "INFO:tensorflow:Saving checkpoints for 1101 into ./model/model.ckpt.\n",
      "INFO:tensorflow:global_step/sec: 1.8564\n",
      "INFO:tensorflow:loss = 1.05192, step = 1101 (53.868 sec)\n",
      "INFO:tensorflow:global_step/sec: 1.75728\n",
      "INFO:tensorflow:loss = 1.17455, step = 1201 (56.906 sec)\n",
      "INFO:tensorflow:global_step/sec: 1.76494\n",
      "INFO:tensorflow:loss = 1.12584, step = 1301 (56.659 sec)\n",
      "INFO:tensorflow:global_step/sec: 1.79525\n",
      "INFO:tensorflow:loss = 1.08292, step = 1401 (55.703 sec)\n",
      "INFO:tensorflow:global_step/sec: 1.85563\n",
      "INFO:tensorflow:loss = 1.18927, step = 1501 (53.890 sec)\n",
      "INFO:tensorflow:global_step/sec: 1.79799\n",
      "INFO:tensorflow:loss = 1.0055, step = 1601 (55.618 sec)\n",
      "INFO:tensorflow:global_step/sec: 1.86095\n",
      "INFO:tensorflow:loss = 1.02031, step = 1701 (53.736 sec)\n",
      "INFO:tensorflow:global_step/sec: 1.69971\n",
      "INFO:tensorflow:loss = 1.06833, step = 1801 (58.833 sec)\n",
      "INFO:tensorflow:global_step/sec: 2.11031\n",
      "INFO:tensorflow:loss = 0.875112, step = 1901 (47.387 sec)\n",
      "INFO:tensorflow:global_step/sec: 1.85837\n",
      "INFO:tensorflow:loss = 1.14484, step = 2001 (53.811 sec)\n",
      "INFO:tensorflow:global_step/sec: 1.98338\n",
      "INFO:tensorflow:loss = 1.08321, step = 2101 (50.419 sec)\n",
      "INFO:tensorflow:global_step/sec: 2.05962\n",
      "INFO:tensorflow:loss = 1.06116, step = 2201 (48.553 sec)\n",
      "INFO:tensorflow:Saving checkpoints for 2219 into ./model/model.ckpt.\n",
      "INFO:tensorflow:global_step/sec: 2.09015\n",
      "INFO:tensorflow:loss = 1.03558, step = 2301 (47.844 sec)\n",
      "INFO:tensorflow:global_step/sec: 2.10443\n",
      "INFO:tensorflow:loss = 0.893726, step = 2401 (47.519 sec)\n",
      "INFO:tensorflow:global_step/sec: 2.05404\n",
      "INFO:tensorflow:loss = 1.01848, step = 2501 (48.685 sec)\n",
      "INFO:tensorflow:global_step/sec: 2.11661\n",
      "INFO:tensorflow:loss = 0.910456, step = 2601 (47.246 sec)\n",
      "INFO:tensorflow:global_step/sec: 2.12228\n",
      "INFO:tensorflow:loss = 0.998731, step = 2701 (47.119 sec)\n",
      "INFO:tensorflow:global_step/sec: 2.0887\n",
      "INFO:tensorflow:loss = 0.820128, step = 2801 (47.877 sec)\n",
      "INFO:tensorflow:global_step/sec: 1.94191\n",
      "INFO:tensorflow:loss = 0.875092, step = 2901 (51.496 sec)\n",
      "INFO:tensorflow:global_step/sec: 1.95803\n",
      "INFO:tensorflow:loss = 0.812671, step = 3001 (51.072 sec)\n",
      "INFO:tensorflow:global_step/sec: 1.7907\n",
      "INFO:tensorflow:loss = 0.87565, step = 3101 (55.844 sec)\n",
      "INFO:tensorflow:global_step/sec: 1.90288\n",
      "INFO:tensorflow:loss = 0.892458, step = 3201 (52.552 sec)\n",
      "INFO:tensorflow:global_step/sec: 1.90876\n",
      "INFO:tensorflow:loss = 0.776942, step = 3301 (52.390 sec)\n",
      "INFO:tensorflow:global_step/sec: 1.81106\n",
      "INFO:tensorflow:loss = 0.716673, step = 3401 (55.216 sec)\n",
      "INFO:tensorflow:Saving checkpoints for 3408 into ./model/model.ckpt.\n",
      "INFO:tensorflow:global_step/sec: 1.88112\n",
      "INFO:tensorflow:loss = 0.876652, step = 3501 (53.160 sec)\n",
      "INFO:tensorflow:global_step/sec: 1.9747\n",
      "INFO:tensorflow:loss = 0.835531, step = 3601 (50.647 sec)\n",
      "INFO:tensorflow:global_step/sec: 1.97824\n",
      "INFO:tensorflow:loss = 0.956935, step = 3701 (50.544 sec)\n",
      "INFO:tensorflow:global_step/sec: 2.00005\n",
      "INFO:tensorflow:loss = 0.794684, step = 3801 (49.999 sec)\n",
      "INFO:tensorflow:global_step/sec: 1.73768\n",
      "INFO:tensorflow:loss = 0.92749, step = 3901 (57.548 sec)\n",
      "INFO:tensorflow:global_step/sec: 1.93542\n",
      "INFO:tensorflow:loss = 0.73472, step = 4001 (51.669 sec)\n",
      "INFO:tensorflow:global_step/sec: 1.88126\n",
      "INFO:tensorflow:loss = 0.780936, step = 4101 (53.156 sec)\n",
      "INFO:tensorflow:global_step/sec: 2.10537\n",
      "INFO:tensorflow:loss = 0.546665, step = 4201 (47.497 sec)\n",
      "INFO:tensorflow:global_step/sec: 2.11404\n",
      "INFO:tensorflow:loss = 0.68243, step = 4301 (47.303 sec)\n",
      "INFO:tensorflow:global_step/sec: 2.09529\n",
      "INFO:tensorflow:loss = 0.797769, step = 4401 (47.726 sec)\n",
      "INFO:tensorflow:global_step/sec: 1.92196\n",
      "INFO:tensorflow:loss = 0.524945, step = 4501 (52.030 sec)\n",
      "INFO:tensorflow:Saving checkpoints for 4584 into ./model/model.ckpt.\n",
      "INFO:tensorflow:global_step/sec: 1.91007\n",
      "INFO:tensorflow:loss = 0.580121, step = 4601 (52.354 sec)\n",
      "INFO:tensorflow:global_step/sec: 1.95636\n",
      "INFO:tensorflow:loss = 0.727426, step = 4701 (51.115 sec)\n",
      "INFO:tensorflow:global_step/sec: 1.99353\n",
      "INFO:tensorflow:loss = 0.504562, step = 4801 (50.162 sec)\n",
      "INFO:tensorflow:global_step/sec: 1.97517\n",
      "INFO:tensorflow:loss = 0.619324, step = 4901 (50.629 sec)\n",
      "INFO:tensorflow:global_step/sec: 1.7944\n",
      "INFO:tensorflow:loss = 0.610008, step = 5001 (55.729 sec)\n",
      "INFO:tensorflow:global_step/sec: 1.69919\n",
      "INFO:tensorflow:loss = 0.701604, step = 5101 (58.851 sec)\n",
      "INFO:tensorflow:global_step/sec: 1.99317\n",
      "INFO:tensorflow:loss = 0.559546, step = 5201 (50.171 sec)\n",
      "INFO:tensorflow:global_step/sec: 1.92771\n",
      "INFO:tensorflow:loss = 0.762541, step = 5301 (51.875 sec)\n",
      "INFO:tensorflow:global_step/sec: 2.03751\n",
      "INFO:tensorflow:loss = 0.634106, step = 5401 (49.079 sec)\n",
      "INFO:tensorflow:global_step/sec: 1.94266\n",
      "INFO:tensorflow:loss = 0.633309, step = 5501 (51.476 sec)\n",
      "INFO:tensorflow:global_step/sec: 1.94908\n",
      "INFO:tensorflow:loss = 0.648388, step = 5601 (51.307 sec)\n",
      "INFO:tensorflow:global_step/sec: 1.97752\n",
      "INFO:tensorflow:loss = 0.418163, step = 5701 (50.568 sec)\n",
      "INFO:tensorflow:Saving checkpoints for 5744 into ./model/model.ckpt.\n",
      "INFO:tensorflow:global_step/sec: 1.98076\n",
      "INFO:tensorflow:loss = 0.566227, step = 5801 (50.486 sec)\n",
      "INFO:tensorflow:global_step/sec: 1.87688\n",
      "INFO:tensorflow:loss = 0.425648, step = 5901 (53.280 sec)\n",
      "INFO:tensorflow:Saving checkpoints for 6000 into ./model/model.ckpt.\n",
      "INFO:tensorflow:Loss for final step: 0.477484.\n"
     ]
    },
    {
     "data": {
      "text/plain": [
       "<tensorflow.python.estimator.estimator.Estimator at 0x7f7749a05278>"
      ]
     },
     "execution_count": 9,
     "metadata": {},
     "output_type": "execute_result"
    }
   ],
   "source": [
    "# Define the input function for training\n",
    "input_fn = tf.estimator.inputs.numpy_input_fn(\n",
    "    x={'images': imgs_train}, y=labels_train_class,\n",
    "    batch_size=batch_size, num_epochs=None, shuffle=True)\n",
    "# Train the Model\n",
    "model.train(input_fn, steps=num_steps)"
   ]
  },
  {
   "cell_type": "code",
   "execution_count": 10,
   "metadata": {},
   "outputs": [
    {
     "name": "stdout",
     "output_type": "stream",
     "text": [
      "INFO:tensorflow:Starting evaluation at 2018-01-17-14:00:14\n",
      "INFO:tensorflow:Restoring parameters from ./model/model.ckpt-6000\n",
      "INFO:tensorflow:Finished evaluation at 2018-01-17-14:00:18\n",
      "INFO:tensorflow:Saving dict for global step 6000: accuracy = 0.514349, global_step = 6000, loss = 1.9501\n"
     ]
    },
    {
     "data": {
      "text/plain": [
       "{'accuracy': 0.5143494, 'global_step': 6000, 'loss': 1.9500998}"
      ]
     },
     "execution_count": 10,
     "metadata": {},
     "output_type": "execute_result"
    }
   ],
   "source": [
    "# Evaluate the Model\n",
    "# Define the input function for evaluating\n",
    "input_fn = tf.estimator.inputs.numpy_input_fn(\n",
    "    x={'images': imgs_test}, y=labels_test_class,\n",
    "    batch_size=batch_size, shuffle=False)\n",
    "# Use the Estimator 'evaluate' method\n",
    "model.evaluate(input_fn)"
   ]
  },
  {
   "cell_type": "code",
   "execution_count": 11,
   "metadata": {},
   "outputs": [
    {
     "name": "stdout",
     "output_type": "stream",
     "text": [
      "INFO:tensorflow:Restoring parameters from ./model/model.ckpt-6000\n"
     ]
    }
   ],
   "source": [
    "# Use the model to predict the images class\n",
    "preds = list(model.predict(input_fn))\n",
    "\n",
    "# Display\n",
    "#for i in range(n_images):\n",
    "#    plt.imshow(np.reshape(test_images[i], [img_size, img_size]), cmap='gray')\n",
    "#    plt.show()\n",
    "#    print(\"Model prediction:\", class_labels[preds[i]])"
   ]
  },
  {
   "cell_type": "code",
   "execution_count": 12,
   "metadata": {
    "collapsed": true
   },
   "outputs": [],
   "source": [
    "def plot_confusion_matrix(cls_pred, cls_true):\n",
    "    # cls_pred is an array of the predicted class-number for\n",
    "    # all images in the test-set.\n",
    "    \n",
    "    # Get the confusion matrix using sklearn.\n",
    "    cm = confusion_matrix(y_true=cls_true,\n",
    "                          y_pred=cls_pred)\n",
    "\n",
    "    # Print the confusion matrix as text.\n",
    "    print(cm)\n",
    "\n",
    "    # Plot the confusion matrix as an image.\n",
    "    plt.matshow(cm)\n",
    "\n",
    "    # Make various adjustments to the plot.\n",
    "    plt.colorbar()\n",
    "    tick_marks = np.arange(num_classes)\n",
    "    plt.xticks(tick_marks, range(num_classes))\n",
    "    plt.yticks(tick_marks, range(num_classes))\n",
    "    plt.xlabel('Predicted')\n",
    "    plt.ylabel('True')\n",
    "\n",
    "    # Ensure the plot is shown correctly with multiple plots\n",
    "    # in a single Notebook cell.\n",
    "    plt.show()"
   ]
  },
  {
   "cell_type": "code",
   "execution_count": 13,
   "metadata": {},
   "outputs": [
    {
     "name": "stdout",
     "output_type": "stream",
     "text": [
      "[[196  10  82  39  88  18  58]\n",
      " [ 13  22   5   3   5   4   3]\n",
      " [ 71   7 227  39  86  49  49]\n",
      " [ 43   7  65 618  57  30  59]\n",
      " [ 76   1 116  51 214  14 122]\n",
      " [ 15   3  66  20  15 276  21]\n",
      " [ 56   3  80  59 102  33 293]]\n"
     ]
    },
    {
     "data": {
      "image/png": "[encoded data removed]",
      "text/plain": [
       "<matplotlib.figure.Figure at 0x7f7703e172e8>"
      ]
     },
     "metadata": {},
     "output_type": "display_data"
    }
   ],
   "source": [
    "plot_confusion_matrix(cls_pred=preds, cls_true=labels_test_class)"
   ]
  }
 ],
 "metadata": {
  "kernelspec": {
   "display_name": "Python 3",
   "language": "python",
   "name": "python3"
  },
  "language_info": {
   "codemirror_mode": {
    "name": "ipython",
    "version": 3
   },
   "file_extension": ".py",
   "mimetype": "text/x-python",
   "name": "python",
   "nbconvert_exporter": "python",
   "pygments_lexer": "ipython3",
   "version": "3.6.3"
  }
 },
 "nbformat": 4,
 "nbformat_minor": 2
}
