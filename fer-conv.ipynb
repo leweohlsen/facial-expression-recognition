{
 "cells": [
  {
   "cell_type": "markdown",
   "metadata": {},
   "source": [
    "# Facial Expression Recognition\n",
    "In this approach, we will setup a convolutional neural network to aim for an accuracy > 50%."
   ]
  },
  {
   "cell_type": "code",
   "execution_count": 1,
   "metadata": {
    "collapsed": true
   },
   "outputs": [],
   "source": [
    "%matplotlib inline\n",
    "from random import randint\n",
    "import csv\n",
    "import matplotlib.pyplot as plt\n",
    "from sklearn.metrics import confusion_matrix\n",
    "import tensorflow as tf\n",
    "import numpy as np"
   ]
  },
  {
   "cell_type": "code",
   "execution_count": 2,
   "metadata": {
    "collapsed": true
   },
   "outputs": [],
   "source": [
    "session = tf.Session()\n",
    "writer = tf.summary.FileWriter('logs/graph', session.graph)"
   ]
  },
  {
   "cell_type": "markdown",
   "metadata": {},
   "source": [
    "### Network and Training Parameters"
   ]
  },
  {
   "cell_type": "code",
   "execution_count": 3,
   "metadata": {
    "collapsed": true
   },
   "outputs": [],
   "source": [
    "# images are 48x48 pixels\n",
    "img_size = 48\n",
    "img_size_flat = img_size * img_size\n",
    "img_shape = (img_size, img_size)\n",
    "num_classes = 7\n",
    "class_labels = ['Angry', 'Disgust', 'Fear', 'Happy', 'Sad', 'Surprise', 'Neutral']\n",
    "\n",
    "# probability to drop a unit\n",
    "dropout = 0.25\n",
    "\n",
    "# training parameters\n",
    "learning_rate = 0.001\n",
    "num_steps = 5000\n",
    "batch_size = 128"
   ]
  },
  {
   "cell_type": "markdown",
   "metadata": {},
   "source": [
    "### Read CSV"
   ]
  },
  {
   "cell_type": "code",
   "execution_count": 4,
   "metadata": {
    "collapsed": true
   },
   "outputs": [],
   "source": [
    "# Feature Vectors (0-255)\n",
    "imgs_train_byte = []\n",
    "imgs_test_byte = []\n",
    "\n",
    "# Labels (0-6)\n",
    "labels_train_class = []\n",
    "labels_test_class = []\n",
    "\n",
    "\n",
    "with open('fer2013.csv') as csvfile:\n",
    "    readCSV = csv.reader(csvfile, delimiter=',')\n",
    "    # skip CSV header\n",
    "    next(readCSV)\n",
    "    for row in readCSV:\n",
    "        if row[2] == 'Training':\n",
    "            # cast pixels to int\n",
    "            pixels_train = [float(x) for x in row[1].split(' ')]\n",
    "            imgs_train_byte.append(np.array(pixels_train))\n",
    "            labels_train_class.append(int(row[0]))\n",
    "        elif row[2] == 'PrivateTest':\n",
    "            pixels_test = [float(x) for x in row[1].split(' ')]\n",
    "            imgs_test_byte.append(np.array(pixels_test))\n",
    "            labels_test_class.append(int(row[0]))"
   ]
  },
  {
   "cell_type": "markdown",
   "metadata": {},
   "source": [
    "### Wrapping up the dataset"
   ]
  },
  {
   "cell_type": "code",
   "execution_count": 5,
   "metadata": {
    "collapsed": true
   },
   "outputs": [],
   "source": [
    "# cast to correct type and wrap into np arrays\n",
    "imgs_train_byte = np.array(imgs_train_byte, dtype=np.float32)\n",
    "imgs_test_byte = np.array(imgs_test_byte, dtype=np.float32)\n",
    "labels_train_class = np.array(labels_train_class, dtype=np.float32)\n",
    "labels_test_class = np.array(labels_test_class, dtype=np.float32)\n",
    "# normalize the pixel intensitys\n",
    "imgs_train = np.divide(imgs_train_byte, 255)\n",
    "imgs_test = np.divide(imgs_test_byte, 255)"
   ]
  },
  {
   "cell_type": "markdown",
   "metadata": {},
   "source": [
    "### Bootstrapping the Network"
   ]
  },
  {
   "cell_type": "code",
   "execution_count": 6,
   "metadata": {
    "collapsed": true
   },
   "outputs": [],
   "source": [
    "# Create the neural network\n",
    "def conv_net(x_dict, n_classes, dropout, reuse, is_training):\n",
    "    \n",
    "    # Define a scope for reusing the variables\n",
    "    with tf.variable_scope('ConvNet', reuse=reuse):\n",
    "        # TF Estimator input is a dict, in case of multiple inputs\n",
    "        x = x_dict['images']\n",
    "\n",
    "        # The data input is a 1-D vector of 2304 features (48*48 pixels)\n",
    "        # Reshape to match picture format [Height x Width x Channel]\n",
    "        # Tensor input become 4-D: [Batch Size, Height, Width, Channel]\n",
    "        x = tf.reshape(x, shape=[-1, img_size, img_size, 1])\n",
    "\n",
    "        # Convolution Layer with 32 filters and a kernel size of 5\n",
    "        conv1 = tf.layers.conv2d(x, 32, 5, activation=tf.nn.relu)\n",
    "        # Max Pooling (down-sampling) with strides of 2 and kernel size of 2\n",
    "        conv1 = tf.layers.max_pooling2d(conv1, 2, 2)\n",
    "\n",
    "        # Convolution Layer with 64 filters and a kernel size of 3\n",
    "        conv2 = tf.layers.conv2d(conv1, 64, 3, activation=tf.nn.relu)\n",
    "        # Max Pooling (down-sampling) with strides of 2 and kernel size of 2\n",
    "        conv2 = tf.layers.max_pooling2d(conv2, 2, 2)\n",
    "        \n",
    "        # Convolution Layer with 128 filters and a kernel size of 3\n",
    "        conv3 = tf.layers.conv2d(conv2, 128, 3, activation=tf.nn.relu)\n",
    "        # Max Pooling (down-sampling) with strides of 2 and kernel size of 2\n",
    "        conv3 = tf.layers.max_pooling2d(conv3, 2, 2)\n",
    "\n",
    "        # Flatten the data to a 1-D vector for the fully connected layer\n",
    "        fc1 = tf.contrib.layers.flatten(conv3)\n",
    "\n",
    "        # Fully connected layer (in tf contrib folder for now)\n",
    "        fc1 = tf.layers.dense(fc1, 1024)\n",
    "        # Apply Dropout (if is_training is False, dropout is not applied)\n",
    "        fc1 = tf.layers.dropout(fc1, rate=dropout, training=is_training)\n",
    "\n",
    "        # Output layer, class prediction\n",
    "        out = tf.layers.dense(fc1, n_classes)\n",
    "\n",
    "    return out"
   ]
  },
  {
   "cell_type": "markdown",
   "metadata": {},
   "source": [
    "### Defining the model using the Estimator API"
   ]
  },
  {
   "cell_type": "code",
   "execution_count": 7,
   "metadata": {
    "collapsed": true
   },
   "outputs": [],
   "source": [
    "# Define the model function (following TF Estimator Template)\n",
    "def model_fn(features, labels, mode):\n",
    "    \n",
    "    # Build the neural network\n",
    "    # Because Dropout have different behavior at training and prediction time, we\n",
    "    # need to create 2 distinct computation graphs that still share the same weights.\n",
    "    logits_train = conv_net(features, num_classes, dropout, reuse=False, is_training=True)\n",
    "    logits_test = conv_net(features, num_classes, dropout, reuse=True, is_training=False)\n",
    "    \n",
    "    # Predictions\n",
    "    pred_classes = tf.argmax(logits_test, axis=1)\n",
    "    pred_probas = tf.nn.softmax(logits_test)\n",
    "    \n",
    "    # If prediction mode, early return\n",
    "    if mode == tf.estimator.ModeKeys.PREDICT:\n",
    "        return tf.estimator.EstimatorSpec(mode, predictions=pred_classes) \n",
    "        \n",
    "    # Define loss and optimizer\n",
    "    loss_op = tf.reduce_mean(tf.nn.sparse_softmax_cross_entropy_with_logits(\n",
    "        logits=logits_train, labels=tf.cast(labels, dtype=tf.int32)))\n",
    "    optimizer = tf.train.AdamOptimizer(learning_rate=learning_rate)\n",
    "    train_op = optimizer.minimize(loss_op, global_step=tf.train.get_global_step())\n",
    "    \n",
    "    # Evaluate the accuracy of the model\n",
    "    acc_op = tf.metrics.accuracy(labels=labels, predictions=pred_classes)\n",
    "    \n",
    "    # TF Estimators requires to return a EstimatorSpec, that specify\n",
    "    # the different ops for training, evaluating, ...\n",
    "    estim_specs = tf.estimator.EstimatorSpec(\n",
    "      mode=mode,\n",
    "      predictions=pred_classes,\n",
    "      loss=loss_op,\n",
    "      train_op=train_op,\n",
    "      eval_metric_ops={'accuracy': acc_op})\n",
    "\n",
    "    return estim_specs"
   ]
  },
  {
   "cell_type": "code",
   "execution_count": 8,
   "metadata": {},
   "outputs": [
    {
     "name": "stdout",
     "output_type": "stream",
     "text": [
      "INFO:tensorflow:Using default config.\n",
      "WARNING:tensorflow:Using temporary folder as model directory: /tmp/tmpcvnt3rp4\n",
      "INFO:tensorflow:Using config: {'_model_dir': '/tmp/tmpcvnt3rp4', '_tf_random_seed': 1, '_save_summary_steps': 100, '_save_checkpoints_secs': 600, '_save_checkpoints_steps': None, '_session_config': None, '_keep_checkpoint_max': 5, '_keep_checkpoint_every_n_hours': 10000, '_log_step_count_steps': 100}\n"
     ]
    }
   ],
   "source": [
    "# Build the Estimator\n",
    "model = tf.estimator.Estimator(model_fn)"
   ]
  },
  {
   "cell_type": "markdown",
   "metadata": {},
   "source": [
    "### Training the model"
   ]
  },
  {
   "cell_type": "code",
   "execution_count": 9,
   "metadata": {},
   "outputs": [
    {
     "name": "stdout",
     "output_type": "stream",
     "text": [
      "INFO:tensorflow:Create CheckpointSaverHook.\n",
      "INFO:tensorflow:Saving checkpoints for 1 into /tmp/tmpcvnt3rp4/model.ckpt.\n",
      "INFO:tensorflow:loss = 1.93938, step = 1\n",
      "INFO:tensorflow:global_step/sec: 2.11937\n",
      "INFO:tensorflow:loss = 1.72064, step = 101 (47.184 sec)\n",
      "INFO:tensorflow:global_step/sec: 2.12062\n",
      "INFO:tensorflow:loss = 1.4903, step = 201 (47.156 sec)\n",
      "INFO:tensorflow:global_step/sec: 2.11872\n",
      "INFO:tensorflow:loss = 1.4232, step = 301 (47.198 sec)\n",
      "INFO:tensorflow:global_step/sec: 2.12522\n",
      "INFO:tensorflow:loss = 1.49745, step = 401 (47.054 sec)\n",
      "INFO:tensorflow:global_step/sec: 1.99181\n",
      "INFO:tensorflow:loss = 1.51882, step = 501 (50.206 sec)\n",
      "INFO:tensorflow:global_step/sec: 2.09432\n",
      "INFO:tensorflow:loss = 1.29979, step = 601 (47.748 sec)\n",
      "INFO:tensorflow:global_step/sec: 2.13954\n",
      "INFO:tensorflow:loss = 1.21132, step = 701 (46.739 sec)\n",
      "INFO:tensorflow:global_step/sec: 1.87619\n",
      "INFO:tensorflow:loss = 1.08284, step = 801 (53.299 sec)\n",
      "INFO:tensorflow:global_step/sec: 2.06341\n",
      "INFO:tensorflow:loss = 1.18852, step = 901 (48.464 sec)\n",
      "INFO:tensorflow:global_step/sec: 2.08198\n",
      "INFO:tensorflow:loss = 1.12387, step = 1001 (48.031 sec)\n",
      "INFO:tensorflow:global_step/sec: 1.99363\n",
      "INFO:tensorflow:loss = 1.03808, step = 1101 (50.160 sec)\n",
      "INFO:tensorflow:global_step/sec: 1.99771\n",
      "INFO:tensorflow:loss = 1.05858, step = 1201 (50.058 sec)\n",
      "INFO:tensorflow:Saving checkpoints for 1235 into /tmp/tmpcvnt3rp4/model.ckpt.\n",
      "INFO:tensorflow:global_step/sec: 1.99857\n",
      "INFO:tensorflow:loss = 1.05468, step = 1301 (50.036 sec)\n",
      "INFO:tensorflow:global_step/sec: 2.11603\n",
      "INFO:tensorflow:loss = 1.20723, step = 1401 (47.258 sec)\n",
      "INFO:tensorflow:global_step/sec: 2.11998\n",
      "INFO:tensorflow:loss = 1.021, step = 1501 (47.170 sec)\n",
      "INFO:tensorflow:global_step/sec: 2.09859\n",
      "INFO:tensorflow:loss = 1.04153, step = 1601 (47.651 sec)\n",
      "INFO:tensorflow:global_step/sec: 2.11718\n",
      "INFO:tensorflow:loss = 1.02343, step = 1701 (47.233 sec)\n",
      "INFO:tensorflow:global_step/sec: 1.90459\n",
      "INFO:tensorflow:loss = 0.785821, step = 1801 (52.505 sec)\n",
      "INFO:tensorflow:global_step/sec: 2.09722\n",
      "INFO:tensorflow:loss = 0.959396, step = 1901 (47.682 sec)\n",
      "INFO:tensorflow:global_step/sec: 2.08258\n",
      "INFO:tensorflow:loss = 0.972668, step = 2001 (48.017 sec)\n",
      "INFO:tensorflow:global_step/sec: 1.95134\n",
      "INFO:tensorflow:loss = 0.978565, step = 2101 (51.247 sec)\n",
      "INFO:tensorflow:global_step/sec: 2.11538\n",
      "INFO:tensorflow:loss = 0.967603, step = 2201 (47.273 sec)\n",
      "INFO:tensorflow:global_step/sec: 2.11699\n",
      "INFO:tensorflow:loss = 0.851029, step = 2301 (47.237 sec)\n",
      "INFO:tensorflow:global_step/sec: 2.12118\n",
      "INFO:tensorflow:loss = 0.910133, step = 2401 (47.144 sec)\n",
      "INFO:tensorflow:Saving checkpoints for 2479 into /tmp/tmpcvnt3rp4/model.ckpt.\n",
      "INFO:tensorflow:global_step/sec: 2.12078\n",
      "INFO:tensorflow:loss = 0.998486, step = 2501 (47.152 sec)\n",
      "INFO:tensorflow:global_step/sec: 2.1141\n",
      "INFO:tensorflow:loss = 0.831614, step = 2601 (47.301 sec)\n",
      "INFO:tensorflow:global_step/sec: 2.11421\n",
      "INFO:tensorflow:loss = 1.02343, step = 2701 (47.299 sec)\n",
      "INFO:tensorflow:global_step/sec: 2.12654\n",
      "INFO:tensorflow:loss = 0.833065, step = 2801 (47.025 sec)\n",
      "INFO:tensorflow:global_step/sec: 2.12669\n",
      "INFO:tensorflow:loss = 0.84538, step = 2901 (47.021 sec)\n",
      "INFO:tensorflow:global_step/sec: 2.12283\n",
      "INFO:tensorflow:loss = 0.6968, step = 3001 (47.107 sec)\n",
      "INFO:tensorflow:global_step/sec: 2.12553\n",
      "INFO:tensorflow:loss = 0.742875, step = 3101 (47.047 sec)\n",
      "INFO:tensorflow:global_step/sec: 2.12278\n",
      "INFO:tensorflow:loss = 0.736168, step = 3201 (47.108 sec)\n",
      "INFO:tensorflow:global_step/sec: 2.12636\n",
      "INFO:tensorflow:loss = 0.733218, step = 3301 (47.029 sec)\n",
      "INFO:tensorflow:global_step/sec: 2.08446\n",
      "INFO:tensorflow:loss = 0.604159, step = 3401 (47.974 sec)\n",
      "INFO:tensorflow:global_step/sec: 2.13461\n",
      "INFO:tensorflow:loss = 0.718332, step = 3501 (46.847 sec)\n",
      "INFO:tensorflow:global_step/sec: 2.13202\n",
      "INFO:tensorflow:loss = 0.850801, step = 3601 (46.904 sec)\n",
      "INFO:tensorflow:global_step/sec: 2.06144\n",
      "INFO:tensorflow:loss = 0.831665, step = 3701 (48.510 sec)\n",
      "INFO:tensorflow:Saving checkpoints for 3749 into /tmp/tmpcvnt3rp4/model.ckpt.\n",
      "INFO:tensorflow:global_step/sec: 2.1142\n",
      "INFO:tensorflow:loss = 0.649347, step = 3801 (47.299 sec)\n",
      "INFO:tensorflow:global_step/sec: 2.12981\n",
      "INFO:tensorflow:loss = 0.636669, step = 3901 (46.953 sec)\n",
      "INFO:tensorflow:global_step/sec: 2.1285\n",
      "INFO:tensorflow:loss = 0.762363, step = 4001 (46.981 sec)\n",
      "INFO:tensorflow:global_step/sec: 2.11709\n",
      "INFO:tensorflow:loss = 0.47644, step = 4101 (47.235 sec)\n",
      "INFO:tensorflow:global_step/sec: 2.13579\n",
      "INFO:tensorflow:loss = 0.644437, step = 4201 (46.821 sec)\n",
      "INFO:tensorflow:global_step/sec: 2.13227\n",
      "INFO:tensorflow:loss = 0.566401, step = 4301 (46.898 sec)\n",
      "INFO:tensorflow:global_step/sec: 2.08526\n",
      "INFO:tensorflow:loss = 0.558084, step = 4401 (47.956 sec)\n",
      "INFO:tensorflow:global_step/sec: 1.88988\n",
      "INFO:tensorflow:loss = 0.696817, step = 4501 (52.914 sec)\n",
      "INFO:tensorflow:global_step/sec: 2.06263\n",
      "INFO:tensorflow:loss = 0.700588, step = 4601 (48.482 sec)\n",
      "INFO:tensorflow:global_step/sec: 2.13047\n",
      "INFO:tensorflow:loss = 0.609884, step = 4701 (46.938 sec)\n",
      "INFO:tensorflow:global_step/sec: 2.1206\n",
      "INFO:tensorflow:loss = 0.57996, step = 4801 (47.156 sec)\n",
      "INFO:tensorflow:global_step/sec: 2.1206\n",
      "INFO:tensorflow:loss = 0.613483, step = 4901 (47.156 sec)\n",
      "INFO:tensorflow:Saving checkpoints for 5000 into /tmp/tmpcvnt3rp4/model.ckpt.\n",
      "INFO:tensorflow:Loss for final step: 0.393866.\n"
     ]
    },
    {
     "data": {
      "text/plain": [
       "<tensorflow.python.estimator.estimator.Estimator at 0x7f1b08afa208>"
      ]
     },
     "execution_count": 9,
     "metadata": {},
     "output_type": "execute_result"
    }
   ],
   "source": [
    "# Define the input function for training\n",
    "input_fn = tf.estimator.inputs.numpy_input_fn(\n",
    "    x={'images': imgs_train}, y=labels_train_class,\n",
    "    batch_size=batch_size, num_epochs=None, shuffle=True)\n",
    "# Train the Model\n",
    "model.train(input_fn, steps=num_steps)"
   ]
  },
  {
   "cell_type": "code",
   "execution_count": 10,
   "metadata": {},
   "outputs": [
    {
     "name": "stdout",
     "output_type": "stream",
     "text": [
      "INFO:tensorflow:Starting evaluation at 2018-01-17-12:27:05\n",
      "INFO:tensorflow:Restoring parameters from /tmp/tmpcvnt3rp4/model.ckpt-5000\n",
      "INFO:tensorflow:Finished evaluation at 2018-01-17-12:27:09\n",
      "INFO:tensorflow:Saving dict for global step 5000: accuracy = 0.527724, global_step = 5000, loss = 1.87391\n"
     ]
    },
    {
     "data": {
      "text/plain": [
       "{'accuracy': 0.52772361, 'global_step': 5000, 'loss': 1.8739115}"
      ]
     },
     "execution_count": 10,
     "metadata": {},
     "output_type": "execute_result"
    }
   ],
   "source": [
    "# Evaluate the Model\n",
    "# Define the input function for evaluating\n",
    "input_fn = tf.estimator.inputs.numpy_input_fn(\n",
    "    x={'images': imgs_test}, y=labels_test_class,\n",
    "    batch_size=batch_size, shuffle=False)\n",
    "# Use the Estimator 'evaluate' method\n",
    "model.evaluate(input_fn)"
   ]
  },
  {
   "cell_type": "code",
   "execution_count": 11,
   "metadata": {},
   "outputs": [
    {
     "name": "stdout",
     "output_type": "stream",
     "text": [
      "INFO:tensorflow:Restoring parameters from /tmp/tmpcvnt3rp4/model.ckpt-5000\n"
     ]
    }
   ],
   "source": [
    "# Use the model to predict the images class\n",
    "preds = list(model.predict(input_fn))\n",
    "\n",
    "# Display\n",
    "#for i in range(n_images):\n",
    "#    plt.imshow(np.reshape(test_images[i], [img_size, img_size]), cmap='gray')\n",
    "#    plt.show()\n",
    "#    print(\"Model prediction:\", class_labels[preds[i]])"
   ]
  },
  {
   "cell_type": "code",
   "execution_count": 12,
   "metadata": {
    "collapsed": true
   },
   "outputs": [],
   "source": [
    "def plot_confusion_matrix(cls_pred, cls_true):\n",
    "    # cls_pred is an array of the predicted class-number for\n",
    "    # all images in the test-set.\n",
    "    \n",
    "    # Get the confusion matrix using sklearn.\n",
    "    cm = confusion_matrix(y_true=cls_true,\n",
    "                          y_pred=cls_pred)\n",
    "\n",
    "    # Print the confusion matrix as text.\n",
    "    print(cm)\n",
    "\n",
    "    # Plot the confusion matrix as an image.\n",
    "    plt.matshow(cm)\n",
    "\n",
    "    # Make various adjustments to the plot.\n",
    "    plt.colorbar()\n",
    "    tick_marks = np.arange(num_classes)\n",
    "    plt.xticks(tick_marks, range(num_classes))\n",
    "    plt.yticks(tick_marks, range(num_classes))\n",
    "    plt.xlabel('Predicted')\n",
    "    plt.ylabel('True')\n",
    "\n",
    "    # Ensure the plot is shown correctly with multiple plots\n",
    "    # in a single Notebook cell.\n",
    "    plt.show()"
   ]
  },
  {
   "cell_type": "code",
   "execution_count": 13,
   "metadata": {},
   "outputs": [
    {
     "name": "stdout",
     "output_type": "stream",
     "text": [
      "[[207   5  58  41  84  23  73]\n",
      " [ 13  22   8   3   4   1   4]\n",
      " [ 75   1 177  32 112  55  76]\n",
      " [ 35   3  28 672  61  27  53]\n",
      " [ 74   5  97  69 213  15 121]\n",
      " [  9   2  48  24  20 285  28]\n",
      " [ 48   2  61  67 106  24 318]]\n"
     ]
    },
    {
     "data": {
      "image/png": "[encoded data removed]",
      "text/plain": [
       "<matplotlib.figure.Figure at 0x7f1ae1cd5390>"
      ]
     },
     "metadata": {},
     "output_type": "display_data"
    }
   ],
   "source": [
    "plot_confusion_matrix(cls_pred=preds, cls_true=labels_test_class)"
   ]
  }
 ],
 "metadata": {
  "kernelspec": {
   "display_name": "Python 3",
   "language": "python",
   "name": "python3"
  },
  "language_info": {
   "codemirror_mode": {
    "name": "ipython",
    "version": 3
   },
   "file_extension": ".py",
   "mimetype": "text/x-python",
   "name": "python",
   "nbconvert_exporter": "python",
   "pygments_lexer": "ipython3",
   "version": "3.6.3"
  }
 },
 "nbformat": 4,
 "nbformat_minor": 2
}
